{
  "cells": [
    {
      "cell_type": "code",
      "execution_count": 1,
      "metadata": {
        "id": "XDlXcHmIrsDd"
      },
      "outputs": [],
      "source": [
        "import pandas as pd\n",
        "import numpy as np\n",
        "import matplotlib.pyplot as plt\n",
        "import seaborn as sns"
      ]
    },
    {
      "cell_type": "code",
      "execution_count": 2,
      "metadata": {
        "id": "l7piEI9-rsDe",
        "outputId": "1e895355-499c-48a0-993c-d25b131b2773",
        "colab": {
          "base_uri": "https://localhost:8080/",
          "height": 206
        }
      },
      "outputs": [
        {
          "output_type": "execute_result",
          "data": {
            "text/plain": [
              "         obj_ID       alpha      delta         u         g         r  \\\n",
              "0  1.240000e+18  135.689107  32.494632  23.87882  22.27530  20.39501   \n",
              "1  1.240000e+18  144.826101  31.274185  24.77759  22.83188  22.58444   \n",
              "2  1.240000e+18  142.188790  35.582444  25.26307  22.66389  20.60976   \n",
              "3  1.240000e+18  338.741038  -0.402828  22.13682  23.77656  21.61162   \n",
              "4  1.240000e+18  345.282593  21.183866  19.43718  17.58028  16.49747   \n",
              "\n",
              "          i         z  run_ID  rerun_ID  cam_col  field_ID   spec_obj_ID  \\\n",
              "0  19.16573  18.79371    3606       301        2        79  6.540000e+18   \n",
              "1  21.16812  21.61427    4518       301        5       119  1.180000e+19   \n",
              "2  19.34857  18.94827    3606       301        2       120  5.150000e+18   \n",
              "3  20.50454  19.25010    4192       301        3       214  1.030000e+19   \n",
              "4  15.97711  15.54461    8102       301        3       137  6.890000e+18   \n",
              "\n",
              "    class  redshift  plate    MJD  fiber_ID  \n",
              "0  GALAXY  0.634794   5812  56354       171  \n",
              "1  GALAXY  0.779136  10445  58158       427  \n",
              "2  GALAXY  0.644195   4576  55592       299  \n",
              "3  GALAXY  0.932346   9149  58039       775  \n",
              "4  GALAXY  0.116123   6121  56187       842  "
            ],
            "text/html": [
              "\n",
              "  <div id=\"df-d86c5f9b-da42-4116-84ea-f12565e96f92\">\n",
              "    <div class=\"colab-df-container\">\n",
              "      <div>\n",
              "<style scoped>\n",
              "    .dataframe tbody tr th:only-of-type {\n",
              "        vertical-align: middle;\n",
              "    }\n",
              "\n",
              "    .dataframe tbody tr th {\n",
              "        vertical-align: top;\n",
              "    }\n",
              "\n",
              "    .dataframe thead th {\n",
              "        text-align: right;\n",
              "    }\n",
              "</style>\n",
              "<table border=\"1\" class=\"dataframe\">\n",
              "  <thead>\n",
              "    <tr style=\"text-align: right;\">\n",
              "      <th></th>\n",
              "      <th>obj_ID</th>\n",
              "      <th>alpha</th>\n",
              "      <th>delta</th>\n",
              "      <th>u</th>\n",
              "      <th>g</th>\n",
              "      <th>r</th>\n",
              "      <th>i</th>\n",
              "      <th>z</th>\n",
              "      <th>run_ID</th>\n",
              "      <th>rerun_ID</th>\n",
              "      <th>cam_col</th>\n",
              "      <th>field_ID</th>\n",
              "      <th>spec_obj_ID</th>\n",
              "      <th>class</th>\n",
              "      <th>redshift</th>\n",
              "      <th>plate</th>\n",
              "      <th>MJD</th>\n",
              "      <th>fiber_ID</th>\n",
              "    </tr>\n",
              "  </thead>\n",
              "  <tbody>\n",
              "    <tr>\n",
              "      <th>0</th>\n",
              "      <td>1.240000e+18</td>\n",
              "      <td>135.689107</td>\n",
              "      <td>32.494632</td>\n",
              "      <td>23.87882</td>\n",
              "      <td>22.27530</td>\n",
              "      <td>20.39501</td>\n",
              "      <td>19.16573</td>\n",
              "      <td>18.79371</td>\n",
              "      <td>3606</td>\n",
              "      <td>301</td>\n",
              "      <td>2</td>\n",
              "      <td>79</td>\n",
              "      <td>6.540000e+18</td>\n",
              "      <td>GALAXY</td>\n",
              "      <td>0.634794</td>\n",
              "      <td>5812</td>\n",
              "      <td>56354</td>\n",
              "      <td>171</td>\n",
              "    </tr>\n",
              "    <tr>\n",
              "      <th>1</th>\n",
              "      <td>1.240000e+18</td>\n",
              "      <td>144.826101</td>\n",
              "      <td>31.274185</td>\n",
              "      <td>24.77759</td>\n",
              "      <td>22.83188</td>\n",
              "      <td>22.58444</td>\n",
              "      <td>21.16812</td>\n",
              "      <td>21.61427</td>\n",
              "      <td>4518</td>\n",
              "      <td>301</td>\n",
              "      <td>5</td>\n",
              "      <td>119</td>\n",
              "      <td>1.180000e+19</td>\n",
              "      <td>GALAXY</td>\n",
              "      <td>0.779136</td>\n",
              "      <td>10445</td>\n",
              "      <td>58158</td>\n",
              "      <td>427</td>\n",
              "    </tr>\n",
              "    <tr>\n",
              "      <th>2</th>\n",
              "      <td>1.240000e+18</td>\n",
              "      <td>142.188790</td>\n",
              "      <td>35.582444</td>\n",
              "      <td>25.26307</td>\n",
              "      <td>22.66389</td>\n",
              "      <td>20.60976</td>\n",
              "      <td>19.34857</td>\n",
              "      <td>18.94827</td>\n",
              "      <td>3606</td>\n",
              "      <td>301</td>\n",
              "      <td>2</td>\n",
              "      <td>120</td>\n",
              "      <td>5.150000e+18</td>\n",
              "      <td>GALAXY</td>\n",
              "      <td>0.644195</td>\n",
              "      <td>4576</td>\n",
              "      <td>55592</td>\n",
              "      <td>299</td>\n",
              "    </tr>\n",
              "    <tr>\n",
              "      <th>3</th>\n",
              "      <td>1.240000e+18</td>\n",
              "      <td>338.741038</td>\n",
              "      <td>-0.402828</td>\n",
              "      <td>22.13682</td>\n",
              "      <td>23.77656</td>\n",
              "      <td>21.61162</td>\n",
              "      <td>20.50454</td>\n",
              "      <td>19.25010</td>\n",
              "      <td>4192</td>\n",
              "      <td>301</td>\n",
              "      <td>3</td>\n",
              "      <td>214</td>\n",
              "      <td>1.030000e+19</td>\n",
              "      <td>GALAXY</td>\n",
              "      <td>0.932346</td>\n",
              "      <td>9149</td>\n",
              "      <td>58039</td>\n",
              "      <td>775</td>\n",
              "    </tr>\n",
              "    <tr>\n",
              "      <th>4</th>\n",
              "      <td>1.240000e+18</td>\n",
              "      <td>345.282593</td>\n",
              "      <td>21.183866</td>\n",
              "      <td>19.43718</td>\n",
              "      <td>17.58028</td>\n",
              "      <td>16.49747</td>\n",
              "      <td>15.97711</td>\n",
              "      <td>15.54461</td>\n",
              "      <td>8102</td>\n",
              "      <td>301</td>\n",
              "      <td>3</td>\n",
              "      <td>137</td>\n",
              "      <td>6.890000e+18</td>\n",
              "      <td>GALAXY</td>\n",
              "      <td>0.116123</td>\n",
              "      <td>6121</td>\n",
              "      <td>56187</td>\n",
              "      <td>842</td>\n",
              "    </tr>\n",
              "  </tbody>\n",
              "</table>\n",
              "</div>\n",
              "      <button class=\"colab-df-convert\" onclick=\"convertToInteractive('df-d86c5f9b-da42-4116-84ea-f12565e96f92')\"\n",
              "              title=\"Convert this dataframe to an interactive table.\"\n",
              "              style=\"display:none;\">\n",
              "        \n",
              "  <svg xmlns=\"http://www.w3.org/2000/svg\" height=\"24px\"viewBox=\"0 0 24 24\"\n",
              "       width=\"24px\">\n",
              "    <path d=\"M0 0h24v24H0V0z\" fill=\"none\"/>\n",
              "    <path d=\"M18.56 5.44l.94 2.06.94-2.06 2.06-.94-2.06-.94-.94-2.06-.94 2.06-2.06.94zm-11 1L8.5 8.5l.94-2.06 2.06-.94-2.06-.94L8.5 2.5l-.94 2.06-2.06.94zm10 10l.94 2.06.94-2.06 2.06-.94-2.06-.94-.94-2.06-.94 2.06-2.06.94z\"/><path d=\"M17.41 7.96l-1.37-1.37c-.4-.4-.92-.59-1.43-.59-.52 0-1.04.2-1.43.59L10.3 9.45l-7.72 7.72c-.78.78-.78 2.05 0 2.83L4 21.41c.39.39.9.59 1.41.59.51 0 1.02-.2 1.41-.59l7.78-7.78 2.81-2.81c.8-.78.8-2.07 0-2.86zM5.41 20L4 18.59l7.72-7.72 1.47 1.35L5.41 20z\"/>\n",
              "  </svg>\n",
              "      </button>\n",
              "      \n",
              "  <style>\n",
              "    .colab-df-container {\n",
              "      display:flex;\n",
              "      flex-wrap:wrap;\n",
              "      gap: 12px;\n",
              "    }\n",
              "\n",
              "    .colab-df-convert {\n",
              "      background-color: #E8F0FE;\n",
              "      border: none;\n",
              "      border-radius: 50%;\n",
              "      cursor: pointer;\n",
              "      display: none;\n",
              "      fill: #1967D2;\n",
              "      height: 32px;\n",
              "      padding: 0 0 0 0;\n",
              "      width: 32px;\n",
              "    }\n",
              "\n",
              "    .colab-df-convert:hover {\n",
              "      background-color: #E2EBFA;\n",
              "      box-shadow: 0px 1px 2px rgba(60, 64, 67, 0.3), 0px 1px 3px 1px rgba(60, 64, 67, 0.15);\n",
              "      fill: #174EA6;\n",
              "    }\n",
              "\n",
              "    [theme=dark] .colab-df-convert {\n",
              "      background-color: #3B4455;\n",
              "      fill: #D2E3FC;\n",
              "    }\n",
              "\n",
              "    [theme=dark] .colab-df-convert:hover {\n",
              "      background-color: #434B5C;\n",
              "      box-shadow: 0px 1px 3px 1px rgba(0, 0, 0, 0.15);\n",
              "      filter: drop-shadow(0px 1px 2px rgba(0, 0, 0, 0.3));\n",
              "      fill: #FFFFFF;\n",
              "    }\n",
              "  </style>\n",
              "\n",
              "      <script>\n",
              "        const buttonEl =\n",
              "          document.querySelector('#df-d86c5f9b-da42-4116-84ea-f12565e96f92 button.colab-df-convert');\n",
              "        buttonEl.style.display =\n",
              "          google.colab.kernel.accessAllowed ? 'block' : 'none';\n",
              "\n",
              "        async function convertToInteractive(key) {\n",
              "          const element = document.querySelector('#df-d86c5f9b-da42-4116-84ea-f12565e96f92');\n",
              "          const dataTable =\n",
              "            await google.colab.kernel.invokeFunction('convertToInteractive',\n",
              "                                                     [key], {});\n",
              "          if (!dataTable) return;\n",
              "\n",
              "          const docLinkHtml = 'Like what you see? Visit the ' +\n",
              "            '<a target=\"_blank\" href=https://colab.research.google.com/notebooks/data_table.ipynb>data table notebook</a>'\n",
              "            + ' to learn more about interactive tables.';\n",
              "          element.innerHTML = '';\n",
              "          dataTable['output_type'] = 'display_data';\n",
              "          await google.colab.output.renderOutput(dataTable, element);\n",
              "          const docLink = document.createElement('div');\n",
              "          docLink.innerHTML = docLinkHtml;\n",
              "          element.appendChild(docLink);\n",
              "        }\n",
              "      </script>\n",
              "    </div>\n",
              "  </div>\n",
              "  "
            ]
          },
          "metadata": {},
          "execution_count": 2
        }
      ],
      "source": [
        "df = pd.read_csv(\"star_classification.csv\")\n",
        "df.head()"
      ]
    },
    {
      "cell_type": "code",
      "execution_count": 3,
      "metadata": {
        "id": "MHWCVHxirsDg",
        "outputId": "f60d94c3-5b92-41cf-edcf-3aeb18e00372",
        "colab": {
          "base_uri": "https://localhost:8080/",
          "height": 261
        }
      },
      "outputs": [
        {
          "output_type": "stream",
          "name": "stderr",
          "text": [
            "/usr/local/lib/python3.7/dist-packages/ipykernel_launcher.py:3: FutureWarning: In a future version of pandas all arguments of DataFrame.drop except for the argument 'labels' will be keyword-only\n",
            "  This is separate from the ipykernel package so we can avoid doing imports until\n"
          ]
        },
        {
          "output_type": "execute_result",
          "data": {
            "text/plain": [
              "         obj_ID       alpha      delta         u         g         r  \\\n",
              "0  1.240000e+18  135.689107  32.494632  23.87882  22.27530  20.39501   \n",
              "1  1.240000e+18  144.826101  31.274185  24.77759  22.83188  22.58444   \n",
              "2  1.240000e+18  142.188790  35.582444  25.26307  22.66389  20.60976   \n",
              "3  1.240000e+18  338.741038  -0.402828  22.13682  23.77656  21.61162   \n",
              "4  1.240000e+18  345.282593  21.183866  19.43718  17.58028  16.49747   \n",
              "\n",
              "          i         z  run_ID  rerun_ID  cam_col  field_ID   spec_obj_ID  \\\n",
              "0  19.16573  18.79371    3606       301        2        79  6.540000e+18   \n",
              "1  21.16812  21.61427    4518       301        5       119  1.180000e+19   \n",
              "2  19.34857  18.94827    3606       301        2       120  5.150000e+18   \n",
              "3  20.50454  19.25010    4192       301        3       214  1.030000e+19   \n",
              "4  15.97711  15.54461    8102       301        3       137  6.890000e+18   \n",
              "\n",
              "   redshift  plate    MJD  fiber_ID   class  \n",
              "0  0.634794   5812  56354       171  GALAXY  \n",
              "1  0.779136  10445  58158       427  GALAXY  \n",
              "2  0.644195   4576  55592       299  GALAXY  \n",
              "3  0.932346   9149  58039       775  GALAXY  \n",
              "4  0.116123   6121  56187       842  GALAXY  "
            ],
            "text/html": [
              "\n",
              "  <div id=\"df-84a69352-0e17-4dd9-b8ba-53c97a5bb3f4\">\n",
              "    <div class=\"colab-df-container\">\n",
              "      <div>\n",
              "<style scoped>\n",
              "    .dataframe tbody tr th:only-of-type {\n",
              "        vertical-align: middle;\n",
              "    }\n",
              "\n",
              "    .dataframe tbody tr th {\n",
              "        vertical-align: top;\n",
              "    }\n",
              "\n",
              "    .dataframe thead th {\n",
              "        text-align: right;\n",
              "    }\n",
              "</style>\n",
              "<table border=\"1\" class=\"dataframe\">\n",
              "  <thead>\n",
              "    <tr style=\"text-align: right;\">\n",
              "      <th></th>\n",
              "      <th>obj_ID</th>\n",
              "      <th>alpha</th>\n",
              "      <th>delta</th>\n",
              "      <th>u</th>\n",
              "      <th>g</th>\n",
              "      <th>r</th>\n",
              "      <th>i</th>\n",
              "      <th>z</th>\n",
              "      <th>run_ID</th>\n",
              "      <th>rerun_ID</th>\n",
              "      <th>cam_col</th>\n",
              "      <th>field_ID</th>\n",
              "      <th>spec_obj_ID</th>\n",
              "      <th>redshift</th>\n",
              "      <th>plate</th>\n",
              "      <th>MJD</th>\n",
              "      <th>fiber_ID</th>\n",
              "      <th>class</th>\n",
              "    </tr>\n",
              "  </thead>\n",
              "  <tbody>\n",
              "    <tr>\n",
              "      <th>0</th>\n",
              "      <td>1.240000e+18</td>\n",
              "      <td>135.689107</td>\n",
              "      <td>32.494632</td>\n",
              "      <td>23.87882</td>\n",
              "      <td>22.27530</td>\n",
              "      <td>20.39501</td>\n",
              "      <td>19.16573</td>\n",
              "      <td>18.79371</td>\n",
              "      <td>3606</td>\n",
              "      <td>301</td>\n",
              "      <td>2</td>\n",
              "      <td>79</td>\n",
              "      <td>6.540000e+18</td>\n",
              "      <td>0.634794</td>\n",
              "      <td>5812</td>\n",
              "      <td>56354</td>\n",
              "      <td>171</td>\n",
              "      <td>GALAXY</td>\n",
              "    </tr>\n",
              "    <tr>\n",
              "      <th>1</th>\n",
              "      <td>1.240000e+18</td>\n",
              "      <td>144.826101</td>\n",
              "      <td>31.274185</td>\n",
              "      <td>24.77759</td>\n",
              "      <td>22.83188</td>\n",
              "      <td>22.58444</td>\n",
              "      <td>21.16812</td>\n",
              "      <td>21.61427</td>\n",
              "      <td>4518</td>\n",
              "      <td>301</td>\n",
              "      <td>5</td>\n",
              "      <td>119</td>\n",
              "      <td>1.180000e+19</td>\n",
              "      <td>0.779136</td>\n",
              "      <td>10445</td>\n",
              "      <td>58158</td>\n",
              "      <td>427</td>\n",
              "      <td>GALAXY</td>\n",
              "    </tr>\n",
              "    <tr>\n",
              "      <th>2</th>\n",
              "      <td>1.240000e+18</td>\n",
              "      <td>142.188790</td>\n",
              "      <td>35.582444</td>\n",
              "      <td>25.26307</td>\n",
              "      <td>22.66389</td>\n",
              "      <td>20.60976</td>\n",
              "      <td>19.34857</td>\n",
              "      <td>18.94827</td>\n",
              "      <td>3606</td>\n",
              "      <td>301</td>\n",
              "      <td>2</td>\n",
              "      <td>120</td>\n",
              "      <td>5.150000e+18</td>\n",
              "      <td>0.644195</td>\n",
              "      <td>4576</td>\n",
              "      <td>55592</td>\n",
              "      <td>299</td>\n",
              "      <td>GALAXY</td>\n",
              "    </tr>\n",
              "    <tr>\n",
              "      <th>3</th>\n",
              "      <td>1.240000e+18</td>\n",
              "      <td>338.741038</td>\n",
              "      <td>-0.402828</td>\n",
              "      <td>22.13682</td>\n",
              "      <td>23.77656</td>\n",
              "      <td>21.61162</td>\n",
              "      <td>20.50454</td>\n",
              "      <td>19.25010</td>\n",
              "      <td>4192</td>\n",
              "      <td>301</td>\n",
              "      <td>3</td>\n",
              "      <td>214</td>\n",
              "      <td>1.030000e+19</td>\n",
              "      <td>0.932346</td>\n",
              "      <td>9149</td>\n",
              "      <td>58039</td>\n",
              "      <td>775</td>\n",
              "      <td>GALAXY</td>\n",
              "    </tr>\n",
              "    <tr>\n",
              "      <th>4</th>\n",
              "      <td>1.240000e+18</td>\n",
              "      <td>345.282593</td>\n",
              "      <td>21.183866</td>\n",
              "      <td>19.43718</td>\n",
              "      <td>17.58028</td>\n",
              "      <td>16.49747</td>\n",
              "      <td>15.97711</td>\n",
              "      <td>15.54461</td>\n",
              "      <td>8102</td>\n",
              "      <td>301</td>\n",
              "      <td>3</td>\n",
              "      <td>137</td>\n",
              "      <td>6.890000e+18</td>\n",
              "      <td>0.116123</td>\n",
              "      <td>6121</td>\n",
              "      <td>56187</td>\n",
              "      <td>842</td>\n",
              "      <td>GALAXY</td>\n",
              "    </tr>\n",
              "  </tbody>\n",
              "</table>\n",
              "</div>\n",
              "      <button class=\"colab-df-convert\" onclick=\"convertToInteractive('df-84a69352-0e17-4dd9-b8ba-53c97a5bb3f4')\"\n",
              "              title=\"Convert this dataframe to an interactive table.\"\n",
              "              style=\"display:none;\">\n",
              "        \n",
              "  <svg xmlns=\"http://www.w3.org/2000/svg\" height=\"24px\"viewBox=\"0 0 24 24\"\n",
              "       width=\"24px\">\n",
              "    <path d=\"M0 0h24v24H0V0z\" fill=\"none\"/>\n",
              "    <path d=\"M18.56 5.44l.94 2.06.94-2.06 2.06-.94-2.06-.94-.94-2.06-.94 2.06-2.06.94zm-11 1L8.5 8.5l.94-2.06 2.06-.94-2.06-.94L8.5 2.5l-.94 2.06-2.06.94zm10 10l.94 2.06.94-2.06 2.06-.94-2.06-.94-.94-2.06-.94 2.06-2.06.94z\"/><path d=\"M17.41 7.96l-1.37-1.37c-.4-.4-.92-.59-1.43-.59-.52 0-1.04.2-1.43.59L10.3 9.45l-7.72 7.72c-.78.78-.78 2.05 0 2.83L4 21.41c.39.39.9.59 1.41.59.51 0 1.02-.2 1.41-.59l7.78-7.78 2.81-2.81c.8-.78.8-2.07 0-2.86zM5.41 20L4 18.59l7.72-7.72 1.47 1.35L5.41 20z\"/>\n",
              "  </svg>\n",
              "      </button>\n",
              "      \n",
              "  <style>\n",
              "    .colab-df-container {\n",
              "      display:flex;\n",
              "      flex-wrap:wrap;\n",
              "      gap: 12px;\n",
              "    }\n",
              "\n",
              "    .colab-df-convert {\n",
              "      background-color: #E8F0FE;\n",
              "      border: none;\n",
              "      border-radius: 50%;\n",
              "      cursor: pointer;\n",
              "      display: none;\n",
              "      fill: #1967D2;\n",
              "      height: 32px;\n",
              "      padding: 0 0 0 0;\n",
              "      width: 32px;\n",
              "    }\n",
              "\n",
              "    .colab-df-convert:hover {\n",
              "      background-color: #E2EBFA;\n",
              "      box-shadow: 0px 1px 2px rgba(60, 64, 67, 0.3), 0px 1px 3px 1px rgba(60, 64, 67, 0.15);\n",
              "      fill: #174EA6;\n",
              "    }\n",
              "\n",
              "    [theme=dark] .colab-df-convert {\n",
              "      background-color: #3B4455;\n",
              "      fill: #D2E3FC;\n",
              "    }\n",
              "\n",
              "    [theme=dark] .colab-df-convert:hover {\n",
              "      background-color: #434B5C;\n",
              "      box-shadow: 0px 1px 3px 1px rgba(0, 0, 0, 0.15);\n",
              "      filter: drop-shadow(0px 1px 2px rgba(0, 0, 0, 0.3));\n",
              "      fill: #FFFFFF;\n",
              "    }\n",
              "  </style>\n",
              "\n",
              "      <script>\n",
              "        const buttonEl =\n",
              "          document.querySelector('#df-84a69352-0e17-4dd9-b8ba-53c97a5bb3f4 button.colab-df-convert');\n",
              "        buttonEl.style.display =\n",
              "          google.colab.kernel.accessAllowed ? 'block' : 'none';\n",
              "\n",
              "        async function convertToInteractive(key) {\n",
              "          const element = document.querySelector('#df-84a69352-0e17-4dd9-b8ba-53c97a5bb3f4');\n",
              "          const dataTable =\n",
              "            await google.colab.kernel.invokeFunction('convertToInteractive',\n",
              "                                                     [key], {});\n",
              "          if (!dataTable) return;\n",
              "\n",
              "          const docLinkHtml = 'Like what you see? Visit the ' +\n",
              "            '<a target=\"_blank\" href=https://colab.research.google.com/notebooks/data_table.ipynb>data table notebook</a>'\n",
              "            + ' to learn more about interactive tables.';\n",
              "          element.innerHTML = '';\n",
              "          dataTable['output_type'] = 'display_data';\n",
              "          await google.colab.output.renderOutput(dataTable, element);\n",
              "          const docLink = document.createElement('div');\n",
              "          docLink.innerHTML = docLinkHtml;\n",
              "          element.appendChild(docLink);\n",
              "        }\n",
              "      </script>\n",
              "    </div>\n",
              "  </div>\n",
              "  "
            ]
          },
          "metadata": {},
          "execution_count": 3
        }
      ],
      "source": [
        "tempClass = df[\"class\"]\n",
        "tempClass\n",
        "df.drop(\"class\",1, inplace=True)\n",
        "df[\"class\"] = tempClass\n",
        "df.head()"
      ]
    },
    {
      "cell_type": "code",
      "execution_count": null,
      "metadata": {
        "id": "ZQ0FEu8SrsDh"
      },
      "outputs": [],
      "source": [
        "#df.iloc[:,1:5 ].info(exclude=[\"object\"])"
      ]
    },
    {
      "cell_type": "code",
      "execution_count": 4,
      "metadata": {
        "id": "Zu-ZloohrsDh",
        "outputId": "c573d857-e4b3-4ecc-c0a6-36049feabad9",
        "colab": {
          "base_uri": "https://localhost:8080/"
        }
      },
      "outputs": [
        {
          "output_type": "execute_result",
          "data": {
            "text/plain": [
              "Index(['obj_ID', 'alpha', 'delta', 'u', 'g', 'r', 'i', 'z', 'run_ID',\n",
              "       'rerun_ID', 'cam_col', 'field_ID', 'spec_obj_ID', 'redshift', 'plate',\n",
              "       'MJD', 'fiber_ID', 'class'],\n",
              "      dtype='object')"
            ]
          },
          "metadata": {},
          "execution_count": 4
        }
      ],
      "source": [
        "df.columns"
      ]
    },
    {
      "cell_type": "code",
      "execution_count": 5,
      "metadata": {
        "id": "RAOMmzsyrsDi",
        "outputId": "21c86477-248f-404d-b996-6afb3c09235a",
        "colab": {
          "base_uri": "https://localhost:8080/"
        }
      },
      "outputs": [
        {
          "output_type": "execute_result",
          "data": {
            "text/plain": [
              "(100000, 18)"
            ]
          },
          "metadata": {},
          "execution_count": 5
        }
      ],
      "source": [
        "df.shape"
      ]
    },
    {
      "cell_type": "code",
      "execution_count": 6,
      "metadata": {
        "id": "wxrnIZwArsDi",
        "outputId": "45a7660b-0eb5-4930-b9f3-495c6b85ebe2",
        "colab": {
          "base_uri": "https://localhost:8080/"
        }
      },
      "outputs": [
        {
          "output_type": "execute_result",
          "data": {
            "text/plain": [
              "obj_ID         float64\n",
              "alpha          float64\n",
              "delta          float64\n",
              "u              float64\n",
              "g              float64\n",
              "r              float64\n",
              "i              float64\n",
              "z              float64\n",
              "run_ID           int64\n",
              "rerun_ID         int64\n",
              "cam_col          int64\n",
              "field_ID         int64\n",
              "spec_obj_ID    float64\n",
              "redshift       float64\n",
              "plate            int64\n",
              "MJD              int64\n",
              "fiber_ID         int64\n",
              "class           object\n",
              "dtype: object"
            ]
          },
          "metadata": {},
          "execution_count": 6
        }
      ],
      "source": [
        "df.dtypes"
      ]
    },
    {
      "cell_type": "code",
      "execution_count": 7,
      "metadata": {
        "id": "DhNHMlOtrsDj",
        "outputId": "5263e18b-d05e-4c53-bbbe-ee4d5ba2ede3",
        "colab": {
          "base_uri": "https://localhost:8080/"
        }
      },
      "outputs": [
        {
          "output_type": "execute_result",
          "data": {
            "text/plain": [
              "obj_ID         100000\n",
              "alpha          100000\n",
              "delta          100000\n",
              "u              100000\n",
              "g              100000\n",
              "r              100000\n",
              "i              100000\n",
              "z              100000\n",
              "run_ID         100000\n",
              "rerun_ID       100000\n",
              "cam_col        100000\n",
              "field_ID       100000\n",
              "spec_obj_ID    100000\n",
              "redshift       100000\n",
              "plate          100000\n",
              "MJD            100000\n",
              "fiber_ID       100000\n",
              "class          100000\n",
              "dtype: int64"
            ]
          },
          "metadata": {},
          "execution_count": 7
        }
      ],
      "source": [
        "df.count()"
      ]
    },
    {
      "cell_type": "code",
      "execution_count": 8,
      "metadata": {
        "id": "arRniG3SrsDk",
        "outputId": "afa76cd8-6f8f-46c6-922b-8bffade5f70f",
        "colab": {
          "base_uri": "https://localhost:8080/"
        }
      },
      "outputs": [
        {
          "output_type": "execute_result",
          "data": {
            "text/plain": [
              "GALAXY    59445\n",
              "STAR      21594\n",
              "QSO       18961\n",
              "Name: class, dtype: int64"
            ]
          },
          "metadata": {},
          "execution_count": 8
        }
      ],
      "source": [
        "df[\"class\"].value_counts()"
      ]
    },
    {
      "cell_type": "code",
      "execution_count": 9,
      "metadata": {
        "id": "1HCW84jxrsDl",
        "outputId": "a4b78a71-0d18-40d9-967f-78a102493fb7",
        "colab": {
          "base_uri": "https://localhost:8080/",
          "height": 296
        }
      },
      "outputs": [
        {
          "output_type": "execute_result",
          "data": {
            "text/plain": [
              "<matplotlib.axes._subplots.AxesSubplot at 0x7f64c2a6eb10>"
            ]
          },
          "metadata": {},
          "execution_count": 9
        },
        {
          "output_type": "display_data",
          "data": {
            "text/plain": [
              "<Figure size 432x288 with 1 Axes>"
            ],
            "image/png": "[encoded data removed]"
          },
          "metadata": {
            "needs_background": "light"
          }
        }
      ],
      "source": [
        "sns.countplot(x = 'class', data = df, palette='magma')"
      ]
    },
    {
      "cell_type": "markdown",
      "metadata": {
        "id": "g16ua_AzrsDl"
      },
      "source": [
        "## Encoding target values."
      ]
    },
    {
      "cell_type": "code",
      "execution_count": 10,
      "metadata": {
        "id": "g1zzPJCwrsDm",
        "outputId": "44b9cd48-d3e0-4578-c8a1-741fbc8c8f96",
        "colab": {
          "base_uri": "https://localhost:8080/",
          "height": 206
        }
      },
      "outputs": [
        {
          "output_type": "execute_result",
          "data": {
            "text/plain": [
              "         obj_ID       alpha      delta         u         g         r  \\\n",
              "0  1.240000e+18  135.689107  32.494632  23.87882  22.27530  20.39501   \n",
              "1  1.240000e+18  144.826101  31.274185  24.77759  22.83188  22.58444   \n",
              "2  1.240000e+18  142.188790  35.582444  25.26307  22.66389  20.60976   \n",
              "3  1.240000e+18  338.741038  -0.402828  22.13682  23.77656  21.61162   \n",
              "4  1.240000e+18  345.282593  21.183866  19.43718  17.58028  16.49747   \n",
              "\n",
              "          i         z  run_ID  rerun_ID  cam_col  field_ID   spec_obj_ID  \\\n",
              "0  19.16573  18.79371    3606       301        2        79  6.540000e+18   \n",
              "1  21.16812  21.61427    4518       301        5       119  1.180000e+19   \n",
              "2  19.34857  18.94827    3606       301        2       120  5.150000e+18   \n",
              "3  20.50454  19.25010    4192       301        3       214  1.030000e+19   \n",
              "4  15.97711  15.54461    8102       301        3       137  6.890000e+18   \n",
              "\n",
              "   redshift  plate    MJD  fiber_ID  class  \n",
              "0  0.634794   5812  56354       171      0  \n",
              "1  0.779136  10445  58158       427      0  \n",
              "2  0.644195   4576  55592       299      0  \n",
              "3  0.932346   9149  58039       775      0  \n",
              "4  0.116123   6121  56187       842      0  "
            ],
            "text/html": [
              "\n",
              "  <div id=\"df-96a4a136-177f-42b7-8de5-ceb401605cb3\">\n",
              "    <div class=\"colab-df-container\">\n",
              "      <div>\n",
              "<style scoped>\n",
              "    .dataframe tbody tr th:only-of-type {\n",
              "        vertical-align: middle;\n",
              "    }\n",
              "\n",
              "    .dataframe tbody tr th {\n",
              "        vertical-align: top;\n",
              "    }\n",
              "\n",
              "    .dataframe thead th {\n",
              "        text-align: right;\n",
              "    }\n",
              "</style>\n",
              "<table border=\"1\" class=\"dataframe\">\n",
              "  <thead>\n",
              "    <tr style=\"text-align: right;\">\n",
              "      <th></th>\n",
              "      <th>obj_ID</th>\n",
              "      <th>alpha</th>\n",
              "      <th>delta</th>\n",
              "      <th>u</th>\n",
              "      <th>g</th>\n",
              "      <th>r</th>\n",
              "      <th>i</th>\n",
              "      <th>z</th>\n",
              "      <th>run_ID</th>\n",
              "      <th>rerun_ID</th>\n",
              "      <th>cam_col</th>\n",
              "      <th>field_ID</th>\n",
              "      <th>spec_obj_ID</th>\n",
              "      <th>redshift</th>\n",
              "      <th>plate</th>\n",
              "      <th>MJD</th>\n",
              "      <th>fiber_ID</th>\n",
              "      <th>class</th>\n",
              "    </tr>\n",
              "  </thead>\n",
              "  <tbody>\n",
              "    <tr>\n",
              "      <th>0</th>\n",
              "      <td>1.240000e+18</td>\n",
              "      <td>135.689107</td>\n",
              "      <td>32.494632</td>\n",
              "      <td>23.87882</td>\n",
              "      <td>22.27530</td>\n",
              "      <td>20.39501</td>\n",
              "      <td>19.16573</td>\n",
              "      <td>18.79371</td>\n",
              "      <td>3606</td>\n",
              "      <td>301</td>\n",
              "      <td>2</td>\n",
              "      <td>79</td>\n",
              "      <td>6.540000e+18</td>\n",
              "      <td>0.634794</td>\n",
              "      <td>5812</td>\n",
              "      <td>56354</td>\n",
              "      <td>171</td>\n",
              "      <td>0</td>\n",
              "    </tr>\n",
              "    <tr>\n",
              "      <th>1</th>\n",
              "      <td>1.240000e+18</td>\n",
              "      <td>144.826101</td>\n",
              "      <td>31.274185</td>\n",
              "      <td>24.77759</td>\n",
              "      <td>22.83188</td>\n",
              "      <td>22.58444</td>\n",
              "      <td>21.16812</td>\n",
              "      <td>21.61427</td>\n",
              "      <td>4518</td>\n",
              "      <td>301</td>\n",
              "      <td>5</td>\n",
              "      <td>119</td>\n",
              "      <td>1.180000e+19</td>\n",
              "      <td>0.779136</td>\n",
              "      <td>10445</td>\n",
              "      <td>58158</td>\n",
              "      <td>427</td>\n",
              "      <td>0</td>\n",
              "    </tr>\n",
              "    <tr>\n",
              "      <th>2</th>\n",
              "      <td>1.240000e+18</td>\n",
              "      <td>142.188790</td>\n",
              "      <td>35.582444</td>\n",
              "      <td>25.26307</td>\n",
              "      <td>22.66389</td>\n",
              "      <td>20.60976</td>\n",
              "      <td>19.34857</td>\n",
              "      <td>18.94827</td>\n",
              "      <td>3606</td>\n",
              "      <td>301</td>\n",
              "      <td>2</td>\n",
              "      <td>120</td>\n",
              "      <td>5.150000e+18</td>\n",
              "      <td>0.644195</td>\n",
              "      <td>4576</td>\n",
              "      <td>55592</td>\n",
              "      <td>299</td>\n",
              "      <td>0</td>\n",
              "    </tr>\n",
              "    <tr>\n",
              "      <th>3</th>\n",
              "      <td>1.240000e+18</td>\n",
              "      <td>338.741038</td>\n",
              "      <td>-0.402828</td>\n",
              "      <td>22.13682</td>\n",
              "      <td>23.77656</td>\n",
              "      <td>21.61162</td>\n",
              "      <td>20.50454</td>\n",
              "      <td>19.25010</td>\n",
              "      <td>4192</td>\n",
              "      <td>301</td>\n",
              "      <td>3</td>\n",
              "      <td>214</td>\n",
              "      <td>1.030000e+19</td>\n",
              "      <td>0.932346</td>\n",
              "      <td>9149</td>\n",
              "      <td>58039</td>\n",
              "      <td>775</td>\n",
              "      <td>0</td>\n",
              "    </tr>\n",
              "    <tr>\n",
              "      <th>4</th>\n",
              "      <td>1.240000e+18</td>\n",
              "      <td>345.282593</td>\n",
              "      <td>21.183866</td>\n",
              "      <td>19.43718</td>\n",
              "      <td>17.58028</td>\n",
              "      <td>16.49747</td>\n",
              "      <td>15.97711</td>\n",
              "      <td>15.54461</td>\n",
              "      <td>8102</td>\n",
              "      <td>301</td>\n",
              "      <td>3</td>\n",
              "      <td>137</td>\n",
              "      <td>6.890000e+18</td>\n",
              "      <td>0.116123</td>\n",
              "      <td>6121</td>\n",
              "      <td>56187</td>\n",
              "      <td>842</td>\n",
              "      <td>0</td>\n",
              "    </tr>\n",
              "  </tbody>\n",
              "</table>\n",
              "</div>\n",
              "      <button class=\"colab-df-convert\" onclick=\"convertToInteractive('df-96a4a136-177f-42b7-8de5-ceb401605cb3')\"\n",
              "              title=\"Convert this dataframe to an interactive table.\"\n",
              "              style=\"display:none;\">\n",
              "        \n",
              "  <svg xmlns=\"http://www.w3.org/2000/svg\" height=\"24px\"viewBox=\"0 0 24 24\"\n",
              "       width=\"24px\">\n",
              "    <path d=\"M0 0h24v24H0V0z\" fill=\"none\"/>\n",
              "    <path d=\"M18.56 5.44l.94 2.06.94-2.06 2.06-.94-2.06-.94-.94-2.06-.94 2.06-2.06.94zm-11 1L8.5 8.5l.94-2.06 2.06-.94-2.06-.94L8.5 2.5l-.94 2.06-2.06.94zm10 10l.94 2.06.94-2.06 2.06-.94-2.06-.94-.94-2.06-.94 2.06-2.06.94z\"/><path d=\"M17.41 7.96l-1.37-1.37c-.4-.4-.92-.59-1.43-.59-.52 0-1.04.2-1.43.59L10.3 9.45l-7.72 7.72c-.78.78-.78 2.05 0 2.83L4 21.41c.39.39.9.59 1.41.59.51 0 1.02-.2 1.41-.59l7.78-7.78 2.81-2.81c.8-.78.8-2.07 0-2.86zM5.41 20L4 18.59l7.72-7.72 1.47 1.35L5.41 20z\"/>\n",
              "  </svg>\n",
              "      </button>\n",
              "      \n",
              "  <style>\n",
              "    .colab-df-container {\n",
              "      display:flex;\n",
              "      flex-wrap:wrap;\n",
              "      gap: 12px;\n",
              "    }\n",
              "\n",
              "    .colab-df-convert {\n",
              "      background-color: #E8F0FE;\n",
              "      border: none;\n",
              "      border-radius: 50%;\n",
              "      cursor: pointer;\n",
              "      display: none;\n",
              "      fill: #1967D2;\n",
              "      height: 32px;\n",
              "      padding: 0 0 0 0;\n",
              "      width: 32px;\n",
              "    }\n",
              "\n",
              "    .colab-df-convert:hover {\n",
              "      background-color: #E2EBFA;\n",
              "      box-shadow: 0px 1px 2px rgba(60, 64, 67, 0.3), 0px 1px 3px 1px rgba(60, 64, 67, 0.15);\n",
              "      fill: #174EA6;\n",
              "    }\n",
              "\n",
              "    [theme=dark] .colab-df-convert {\n",
              "      background-color: #3B4455;\n",
              "      fill: #D2E3FC;\n",
              "    }\n",
              "\n",
              "    [theme=dark] .colab-df-convert:hover {\n",
              "      background-color: #434B5C;\n",
              "      box-shadow: 0px 1px 3px 1px rgba(0, 0, 0, 0.15);\n",
              "      filter: drop-shadow(0px 1px 2px rgba(0, 0, 0, 0.3));\n",
              "      fill: #FFFFFF;\n",
              "    }\n",
              "  </style>\n",
              "\n",
              "      <script>\n",
              "        const buttonEl =\n",
              "          document.querySelector('#df-96a4a136-177f-42b7-8de5-ceb401605cb3 button.colab-df-convert');\n",
              "        buttonEl.style.display =\n",
              "          google.colab.kernel.accessAllowed ? 'block' : 'none';\n",
              "\n",
              "        async function convertToInteractive(key) {\n",
              "          const element = document.querySelector('#df-96a4a136-177f-42b7-8de5-ceb401605cb3');\n",
              "          const dataTable =\n",
              "            await google.colab.kernel.invokeFunction('convertToInteractive',\n",
              "                                                     [key], {});\n",
              "          if (!dataTable) return;\n",
              "\n",
              "          const docLinkHtml = 'Like what you see? Visit the ' +\n",
              "            '<a target=\"_blank\" href=https://colab.research.google.com/notebooks/data_table.ipynb>data table notebook</a>'\n",
              "            + ' to learn more about interactive tables.';\n",
              "          element.innerHTML = '';\n",
              "          dataTable['output_type'] = 'display_data';\n",
              "          await google.colab.output.renderOutput(dataTable, element);\n",
              "          const docLink = document.createElement('div');\n",
              "          docLink.innerHTML = docLinkHtml;\n",
              "          element.appendChild(docLink);\n",
              "        }\n",
              "      </script>\n",
              "    </div>\n",
              "  </div>\n",
              "  "
            ]
          },
          "metadata": {},
          "execution_count": 10
        }
      ],
      "source": [
        "# Label Encoder is used for mapping categorical data into 1, 2, 3, 4, 5, 6..\n",
        "from sklearn.preprocessing import LabelEncoder\n",
        "le_encoder = LabelEncoder()\n",
        "le_encoder.fit(df['class'].drop_duplicates())\n",
        "df['class'] = le_encoder.transform(df['class'])\n",
        "df.head()"
      ]
    },
    {
      "cell_type": "code",
      "execution_count": null,
      "metadata": {
        "id": "9csRspuxrsDn"
      },
      "outputs": [],
      "source": [
        "#list(le_encoder.inverse_transform(df[\"class\"]))"
      ]
    },
    {
      "cell_type": "code",
      "execution_count": 11,
      "metadata": {
        "id": "XGhucST6rsDn",
        "outputId": "335c0549-6a99-45b9-a812-3e56aeb8b26d",
        "colab": {
          "base_uri": "https://localhost:8080/",
          "height": 261
        }
      },
      "outputs": [
        {
          "output_type": "stream",
          "name": "stderr",
          "text": [
            "/usr/local/lib/python3.7/dist-packages/ipykernel_launcher.py:1: FutureWarning: In a future version of pandas all arguments of DataFrame.drop except for the argument 'labels' will be keyword-only\n",
            "  \"\"\"Entry point for launching an IPython kernel.\n"
          ]
        },
        {
          "output_type": "execute_result",
          "data": {
            "text/plain": [
              "         obj_ID       alpha      delta         u         g         r  \\\n",
              "0  1.240000e+18  135.689107  32.494632  23.87882  22.27530  20.39501   \n",
              "1  1.240000e+18  144.826101  31.274185  24.77759  22.83188  22.58444   \n",
              "2  1.240000e+18  142.188790  35.582444  25.26307  22.66389  20.60976   \n",
              "3  1.240000e+18  338.741038  -0.402828  22.13682  23.77656  21.61162   \n",
              "4  1.240000e+18  345.282593  21.183866  19.43718  17.58028  16.49747   \n",
              "\n",
              "          i         z  run_ID  cam_col  field_ID   spec_obj_ID  redshift  \\\n",
              "0  19.16573  18.79371    3606        2        79  6.540000e+18  0.634794   \n",
              "1  21.16812  21.61427    4518        5       119  1.180000e+19  0.779136   \n",
              "2  19.34857  18.94827    3606        2       120  5.150000e+18  0.644195   \n",
              "3  20.50454  19.25010    4192        3       214  1.030000e+19  0.932346   \n",
              "4  15.97711  15.54461    8102        3       137  6.890000e+18  0.116123   \n",
              "\n",
              "   plate    MJD  fiber_ID  class  \n",
              "0   5812  56354       171      0  \n",
              "1  10445  58158       427      0  \n",
              "2   4576  55592       299      0  \n",
              "3   9149  58039       775      0  \n",
              "4   6121  56187       842      0  "
            ],
            "text/html": [
              "\n",
              "  <div id=\"df-8872076f-62ea-4036-8eee-b7c2226a6c88\">\n",
              "    <div class=\"colab-df-container\">\n",
              "      <div>\n",
              "<style scoped>\n",
              "    .dataframe tbody tr th:only-of-type {\n",
              "        vertical-align: middle;\n",
              "    }\n",
              "\n",
              "    .dataframe tbody tr th {\n",
              "        vertical-align: top;\n",
              "    }\n",
              "\n",
              "    .dataframe thead th {\n",
              "        text-align: right;\n",
              "    }\n",
              "</style>\n",
              "<table border=\"1\" class=\"dataframe\">\n",
              "  <thead>\n",
              "    <tr style=\"text-align: right;\">\n",
              "      <th></th>\n",
              "      <th>obj_ID</th>\n",
              "      <th>alpha</th>\n",
              "      <th>delta</th>\n",
              "      <th>u</th>\n",
              "      <th>g</th>\n",
              "      <th>r</th>\n",
              "      <th>i</th>\n",
              "      <th>z</th>\n",
              "      <th>run_ID</th>\n",
              "      <th>cam_col</th>\n",
              "      <th>field_ID</th>\n",
              "      <th>spec_obj_ID</th>\n",
              "      <th>redshift</th>\n",
              "      <th>plate</th>\n",
              "      <th>MJD</th>\n",
              "      <th>fiber_ID</th>\n",
              "      <th>class</th>\n",
              "    </tr>\n",
              "  </thead>\n",
              "  <tbody>\n",
              "    <tr>\n",
              "      <th>0</th>\n",
              "      <td>1.240000e+18</td>\n",
              "      <td>135.689107</td>\n",
              "      <td>32.494632</td>\n",
              "      <td>23.87882</td>\n",
              "      <td>22.27530</td>\n",
              "      <td>20.39501</td>\n",
              "      <td>19.16573</td>\n",
              "      <td>18.79371</td>\n",
              "      <td>3606</td>\n",
              "      <td>2</td>\n",
              "      <td>79</td>\n",
              "      <td>6.540000e+18</td>\n",
              "      <td>0.634794</td>\n",
              "      <td>5812</td>\n",
              "      <td>56354</td>\n",
              "      <td>171</td>\n",
              "      <td>0</td>\n",
              "    </tr>\n",
              "    <tr>\n",
              "      <th>1</th>\n",
              "      <td>1.240000e+18</td>\n",
              "      <td>144.826101</td>\n",
              "      <td>31.274185</td>\n",
              "      <td>24.77759</td>\n",
              "      <td>22.83188</td>\n",
              "      <td>22.58444</td>\n",
              "      <td>21.16812</td>\n",
              "      <td>21.61427</td>\n",
              "      <td>4518</td>\n",
              "      <td>5</td>\n",
              "      <td>119</td>\n",
              "      <td>1.180000e+19</td>\n",
              "      <td>0.779136</td>\n",
              "      <td>10445</td>\n",
              "      <td>58158</td>\n",
              "      <td>427</td>\n",
              "      <td>0</td>\n",
              "    </tr>\n",
              "    <tr>\n",
              "      <th>2</th>\n",
              "      <td>1.240000e+18</td>\n",
              "      <td>142.188790</td>\n",
              "      <td>35.582444</td>\n",
              "      <td>25.26307</td>\n",
              "      <td>22.66389</td>\n",
              "      <td>20.60976</td>\n",
              "      <td>19.34857</td>\n",
              "      <td>18.94827</td>\n",
              "      <td>3606</td>\n",
              "      <td>2</td>\n",
              "      <td>120</td>\n",
              "      <td>5.150000e+18</td>\n",
              "      <td>0.644195</td>\n",
              "      <td>4576</td>\n",
              "      <td>55592</td>\n",
              "      <td>299</td>\n",
              "      <td>0</td>\n",
              "    </tr>\n",
              "    <tr>\n",
              "      <th>3</th>\n",
              "      <td>1.240000e+18</td>\n",
              "      <td>338.741038</td>\n",
              "      <td>-0.402828</td>\n",
              "      <td>22.13682</td>\n",
              "      <td>23.77656</td>\n",
              "      <td>21.61162</td>\n",
              "      <td>20.50454</td>\n",
              "      <td>19.25010</td>\n",
              "      <td>4192</td>\n",
              "      <td>3</td>\n",
              "      <td>214</td>\n",
              "      <td>1.030000e+19</td>\n",
              "      <td>0.932346</td>\n",
              "      <td>9149</td>\n",
              "      <td>58039</td>\n",
              "      <td>775</td>\n",
              "      <td>0</td>\n",
              "    </tr>\n",
              "    <tr>\n",
              "      <th>4</th>\n",
              "      <td>1.240000e+18</td>\n",
              "      <td>345.282593</td>\n",
              "      <td>21.183866</td>\n",
              "      <td>19.43718</td>\n",
              "      <td>17.58028</td>\n",
              "      <td>16.49747</td>\n",
              "      <td>15.97711</td>\n",
              "      <td>15.54461</td>\n",
              "      <td>8102</td>\n",
              "      <td>3</td>\n",
              "      <td>137</td>\n",
              "      <td>6.890000e+18</td>\n",
              "      <td>0.116123</td>\n",
              "      <td>6121</td>\n",
              "      <td>56187</td>\n",
              "      <td>842</td>\n",
              "      <td>0</td>\n",
              "    </tr>\n",
              "  </tbody>\n",
              "</table>\n",
              "</div>\n",
              "      <button class=\"colab-df-convert\" onclick=\"convertToInteractive('df-8872076f-62ea-4036-8eee-b7c2226a6c88')\"\n",
              "              title=\"Convert this dataframe to an interactive table.\"\n",
              "              style=\"display:none;\">\n",
              "        \n",
              "  <svg xmlns=\"http://www.w3.org/2000/svg\" height=\"24px\"viewBox=\"0 0 24 24\"\n",
              "       width=\"24px\">\n",
              "    <path d=\"M0 0h24v24H0V0z\" fill=\"none\"/>\n",
              "    <path d=\"M18.56 5.44l.94 2.06.94-2.06 2.06-.94-2.06-.94-.94-2.06-.94 2.06-2.06.94zm-11 1L8.5 8.5l.94-2.06 2.06-.94-2.06-.94L8.5 2.5l-.94 2.06-2.06.94zm10 10l.94 2.06.94-2.06 2.06-.94-2.06-.94-.94-2.06-.94 2.06-2.06.94z\"/><path d=\"M17.41 7.96l-1.37-1.37c-.4-.4-.92-.59-1.43-.59-.52 0-1.04.2-1.43.59L10.3 9.45l-7.72 7.72c-.78.78-.78 2.05 0 2.83L4 21.41c.39.39.9.59 1.41.59.51 0 1.02-.2 1.41-.59l7.78-7.78 2.81-2.81c.8-.78.8-2.07 0-2.86zM5.41 20L4 18.59l7.72-7.72 1.47 1.35L5.41 20z\"/>\n",
              "  </svg>\n",
              "      </button>\n",
              "      \n",
              "  <style>\n",
              "    .colab-df-container {\n",
              "      display:flex;\n",
              "      flex-wrap:wrap;\n",
              "      gap: 12px;\n",
              "    }\n",
              "\n",
              "    .colab-df-convert {\n",
              "      background-color: #E8F0FE;\n",
              "      border: none;\n",
              "      border-radius: 50%;\n",
              "      cursor: pointer;\n",
              "      display: none;\n",
              "      fill: #1967D2;\n",
              "      height: 32px;\n",
              "      padding: 0 0 0 0;\n",
              "      width: 32px;\n",
              "    }\n",
              "\n",
              "    .colab-df-convert:hover {\n",
              "      background-color: #E2EBFA;\n",
              "      box-shadow: 0px 1px 2px rgba(60, 64, 67, 0.3), 0px 1px 3px 1px rgba(60, 64, 67, 0.15);\n",
              "      fill: #174EA6;\n",
              "    }\n",
              "\n",
              "    [theme=dark] .colab-df-convert {\n",
              "      background-color: #3B4455;\n",
              "      fill: #D2E3FC;\n",
              "    }\n",
              "\n",
              "    [theme=dark] .colab-df-convert:hover {\n",
              "      background-color: #434B5C;\n",
              "      box-shadow: 0px 1px 3px 1px rgba(0, 0, 0, 0.15);\n",
              "      filter: drop-shadow(0px 1px 2px rgba(0, 0, 0, 0.3));\n",
              "      fill: #FFFFFF;\n",
              "    }\n",
              "  </style>\n",
              "\n",
              "      <script>\n",
              "        const buttonEl =\n",
              "          document.querySelector('#df-8872076f-62ea-4036-8eee-b7c2226a6c88 button.colab-df-convert');\n",
              "        buttonEl.style.display =\n",
              "          google.colab.kernel.accessAllowed ? 'block' : 'none';\n",
              "\n",
              "        async function convertToInteractive(key) {\n",
              "          const element = document.querySelector('#df-8872076f-62ea-4036-8eee-b7c2226a6c88');\n",
              "          const dataTable =\n",
              "            await google.colab.kernel.invokeFunction('convertToInteractive',\n",
              "                                                     [key], {});\n",
              "          if (!dataTable) return;\n",
              "\n",
              "          const docLinkHtml = 'Like what you see? Visit the ' +\n",
              "            '<a target=\"_blank\" href=https://colab.research.google.com/notebooks/data_table.ipynb>data table notebook</a>'\n",
              "            + ' to learn more about interactive tables.';\n",
              "          element.innerHTML = '';\n",
              "          dataTable['output_type'] = 'display_data';\n",
              "          await google.colab.output.renderOutput(dataTable, element);\n",
              "          const docLink = document.createElement('div');\n",
              "          docLink.innerHTML = docLinkHtml;\n",
              "          element.appendChild(docLink);\n",
              "        }\n",
              "      </script>\n",
              "    </div>\n",
              "  </div>\n",
              "  "
            ]
          },
          "metadata": {},
          "execution_count": 11
        }
      ],
      "source": [
        "df.drop(\"rerun_ID\",1,inplace=True)\n",
        "df.head()"
      ]
    },
    {
      "cell_type": "code",
      "execution_count": 12,
      "metadata": {
        "id": "IQVJepR0rsDo",
        "outputId": "f61fd922-548e-48c9-e806-bc7c8e8e85dc",
        "colab": {
          "base_uri": "https://localhost:8080/",
          "height": 886
        }
      },
      "outputs": [
        {
          "output_type": "execute_result",
          "data": {
            "text/plain": [
              "<matplotlib.axes._subplots.AxesSubplot at 0x7f64b3522450>"
            ]
          },
          "metadata": {},
          "execution_count": 12
        },
        {
          "output_type": "display_data",
          "data": {
            "text/plain": [
              "<Figure size 1800x1080 with 2 Axes>"
            ],
            "image/png": "[encoded data removed]"
          },
          "metadata": {
            "needs_background": "light"
          }
        }
      ],
      "source": [
        "plt.figure(figsize=(25,15))\n",
        "sns.heatmap(df.corr('pearson'), annot = True)"
      ]
    },
    {
      "cell_type": "markdown",
      "metadata": {
        "id": "OHqZrHJcrsDp"
      },
      "source": [
        "## Removing outliers."
      ]
    },
    {
      "cell_type": "code",
      "execution_count": 13,
      "metadata": {
        "id": "9gzFPf2RrsDp"
      },
      "outputs": [],
      "source": [
        "from sklearn.neighbors import LocalOutlierFactor\n",
        "clf = LocalOutlierFactor()\n",
        "y_pred = clf.fit_predict(df) "
      ]
    },
    {
      "cell_type": "code",
      "execution_count": 14,
      "metadata": {
        "id": "xgoPnF_ErsDp"
      },
      "outputs": [],
      "source": [
        "x_score = clf.negative_outlier_factor_\n",
        "outlier_score = pd.DataFrame()\n",
        "outlier_score[\"score\"] = x_score\n",
        "\n",
        "#threshold\n",
        "threshold2 = -1.5                                            \n",
        "filtre2 = outlier_score[\"score\"] < threshold2\n",
        "outlier_index = outlier_score[filtre2].index.tolist()"
      ]
    },
    {
      "cell_type": "code",
      "execution_count": 15,
      "metadata": {
        "id": "0Q08pS-jrsDq",
        "outputId": "30e1fa38-81bf-4d53-fe32-45c404573e82",
        "colab": {
          "base_uri": "https://localhost:8080/"
        }
      },
      "outputs": [
        {
          "output_type": "execute_result",
          "data": {
            "text/plain": [
              "1248"
            ]
          },
          "metadata": {},
          "execution_count": 15
        }
      ],
      "source": [
        "len(outlier_index)"
      ]
    },
    {
      "cell_type": "code",
      "execution_count": 16,
      "metadata": {
        "id": "GzoU8fryrsDq"
      },
      "outputs": [],
      "source": [
        "df.drop(outlier_index, inplace=True)"
      ]
    },
    {
      "cell_type": "code",
      "execution_count": 17,
      "metadata": {
        "id": "66bKk6WNrsDq"
      },
      "outputs": [],
      "source": [
        "corr = df.corr()"
      ]
    },
    {
      "cell_type": "code",
      "execution_count": 18,
      "metadata": {
        "id": "YLQlASTxrsDr",
        "outputId": "02a7a45b-68e4-4c6a-db6e-5d196fbf6e2a",
        "colab": {
          "base_uri": "https://localhost:8080/"
        }
      },
      "outputs": [
        {
          "output_type": "execute_result",
          "data": {
            "text/plain": [
              "r             -0.079069\n",
              "redshift      -0.055038\n",
              "fiber_ID      -0.042071\n",
              "run_ID        -0.037846\n",
              "field_ID      -0.033829\n",
              "u             -0.024734\n",
              "g             -0.020183\n",
              "spec_obj_ID   -0.013247\n",
              "plate         -0.013153\n",
              "alpha         -0.012144\n",
              "MJD           -0.004722\n",
              "z             -0.001718\n",
              "i              0.013905\n",
              "delta          0.014854\n",
              "cam_col        0.023524\n",
              "class          1.000000\n",
              "obj_ID              NaN\n",
              "Name: class, dtype: float64"
            ]
          },
          "metadata": {},
          "execution_count": 18
        }
      ],
      "source": [
        "corr[\"class\"].sort_values()"
      ]
    },
    {
      "cell_type": "code",
      "execution_count": 20,
      "metadata": {
        "id": "LBOUFlVdrsDr"
      },
      "outputs": [],
      "source": [
        "df2 = df.drop(['obj_ID','alpha','delta','run_ID','cam_col','field_ID','fiber_ID','delta','r'], axis = 1)\n",
        "df3 = df.drop(['obj_ID','alpha','delta','run_ID','cam_col','field_ID','fiber_ID','delta','r','spec_obj_ID','plate','i'], axis = 1)\n",
        "df = df.drop(['obj_ID','alpha','delta','run_ID','cam_col','field_ID','fiber_ID'], axis = 1)"
      ]
    },
    {
      "cell_type": "markdown",
      "metadata": {
        "id": "fPzjfvPprsDr"
      },
      "source": [
        "## Balancing Target Values using SMOTE"
      ]
    },
    {
      "cell_type": "code",
      "execution_count": 21,
      "metadata": {
        "id": "lGpNPrgHrsDr"
      },
      "outputs": [],
      "source": [
        "from imblearn.over_sampling import SMOTE\n",
        "from collections import Counter"
      ]
    },
    {
      "cell_type": "code",
      "execution_count": 22,
      "metadata": {
        "id": "YOKWO7hDrsDr"
      },
      "outputs": [],
      "source": [
        "x = df.drop(['class'], axis = 1)\n",
        "y = df.loc[:,'class'].values"
      ]
    },
    {
      "cell_type": "code",
      "execution_count": 23,
      "metadata": {
        "id": "--JumtjErsDs",
        "outputId": "01b77000-3bbf-4e8d-8233-956e2e74af08",
        "colab": {
          "base_uri": "https://localhost:8080/"
        }
      },
      "outputs": [
        {
          "output_type": "stream",
          "name": "stdout",
          "text": [
            "Original dataset shape Counter({0: 58595, 2: 21322, 1: 18835})\n",
            "Resampled dataset shape Counter({0: 58595, 1: 58595, 2: 58595})\n"
          ]
        }
      ],
      "source": [
        "sm = SMOTE(random_state=42)\n",
        "print('Original dataset shape %s' % Counter(y))\n",
        "x, y = sm.fit_resample(x, y)\n",
        "print('Resampled dataset shape %s' % Counter(y))"
      ]
    },
    {
      "cell_type": "code",
      "execution_count": 24,
      "metadata": {
        "id": "lg0K2yLArsDs",
        "outputId": "5e0e07cd-5f57-4ba8-8cfd-b8e935989058",
        "colab": {
          "base_uri": "https://localhost:8080/",
          "height": 206
        }
      },
      "outputs": [
        {
          "output_type": "execute_result",
          "data": {
            "text/plain": [
              "          u         g         r         i         z   spec_obj_ID  redshift  \\\n",
              "0  23.87882  22.27530  20.39501  19.16573  18.79371  6.540000e+18  0.634794   \n",
              "1  24.77759  22.83188  22.58444  21.16812  21.61427  1.180000e+19  0.779136   \n",
              "2  25.26307  22.66389  20.60976  19.34857  18.94827  5.150000e+18  0.644195   \n",
              "3  22.13682  23.77656  21.61162  20.50454  19.25010  1.030000e+19  0.932346   \n",
              "4  19.43718  17.58028  16.49747  15.97711  15.54461  6.890000e+18  0.116123   \n",
              "\n",
              "   plate    MJD  class  \n",
              "0   5812  56354      0  \n",
              "1  10445  58158      0  \n",
              "2   4576  55592      0  \n",
              "3   9149  58039      0  \n",
              "4   6121  56187      0  "
            ],
            "text/html": [
              "\n",
              "  <div id=\"df-785f3286-2354-4bc1-a58c-0c2b95bddb65\">\n",
              "    <div class=\"colab-df-container\">\n",
              "      <div>\n",
              "<style scoped>\n",
              "    .dataframe tbody tr th:only-of-type {\n",
              "        vertical-align: middle;\n",
              "    }\n",
              "\n",
              "    .dataframe tbody tr th {\n",
              "        vertical-align: top;\n",
              "    }\n",
              "\n",
              "    .dataframe thead th {\n",
              "        text-align: right;\n",
              "    }\n",
              "</style>\n",
              "<table border=\"1\" class=\"dataframe\">\n",
              "  <thead>\n",
              "    <tr style=\"text-align: right;\">\n",
              "      <th></th>\n",
              "      <th>u</th>\n",
              "      <th>g</th>\n",
              "      <th>r</th>\n",
              "      <th>i</th>\n",
              "      <th>z</th>\n",
              "      <th>spec_obj_ID</th>\n",
              "      <th>redshift</th>\n",
              "      <th>plate</th>\n",
              "      <th>MJD</th>\n",
              "      <th>class</th>\n",
              "    </tr>\n",
              "  </thead>\n",
              "  <tbody>\n",
              "    <tr>\n",
              "      <th>0</th>\n",
              "      <td>23.87882</td>\n",
              "      <td>22.27530</td>\n",
              "      <td>20.39501</td>\n",
              "      <td>19.16573</td>\n",
              "      <td>18.79371</td>\n",
              "      <td>6.540000e+18</td>\n",
              "      <td>0.634794</td>\n",
              "      <td>5812</td>\n",
              "      <td>56354</td>\n",
              "      <td>0</td>\n",
              "    </tr>\n",
              "    <tr>\n",
              "      <th>1</th>\n",
              "      <td>24.77759</td>\n",
              "      <td>22.83188</td>\n",
              "      <td>22.58444</td>\n",
              "      <td>21.16812</td>\n",
              "      <td>21.61427</td>\n",
              "      <td>1.180000e+19</td>\n",
              "      <td>0.779136</td>\n",
              "      <td>10445</td>\n",
              "      <td>58158</td>\n",
              "      <td>0</td>\n",
              "    </tr>\n",
              "    <tr>\n",
              "      <th>2</th>\n",
              "      <td>25.26307</td>\n",
              "      <td>22.66389</td>\n",
              "      <td>20.60976</td>\n",
              "      <td>19.34857</td>\n",
              "      <td>18.94827</td>\n",
              "      <td>5.150000e+18</td>\n",
              "      <td>0.644195</td>\n",
              "      <td>4576</td>\n",
              "      <td>55592</td>\n",
              "      <td>0</td>\n",
              "    </tr>\n",
              "    <tr>\n",
              "      <th>3</th>\n",
              "      <td>22.13682</td>\n",
              "      <td>23.77656</td>\n",
              "      <td>21.61162</td>\n",
              "      <td>20.50454</td>\n",
              "      <td>19.25010</td>\n",
              "      <td>1.030000e+19</td>\n",
              "      <td>0.932346</td>\n",
              "      <td>9149</td>\n",
              "      <td>58039</td>\n",
              "      <td>0</td>\n",
              "    </tr>\n",
              "    <tr>\n",
              "      <th>4</th>\n",
              "      <td>19.43718</td>\n",
              "      <td>17.58028</td>\n",
              "      <td>16.49747</td>\n",
              "      <td>15.97711</td>\n",
              "      <td>15.54461</td>\n",
              "      <td>6.890000e+18</td>\n",
              "      <td>0.116123</td>\n",
              "      <td>6121</td>\n",
              "      <td>56187</td>\n",
              "      <td>0</td>\n",
              "    </tr>\n",
              "  </tbody>\n",
              "</table>\n",
              "</div>\n",
              "      <button class=\"colab-df-convert\" onclick=\"convertToInteractive('df-785f3286-2354-4bc1-a58c-0c2b95bddb65')\"\n",
              "              title=\"Convert this dataframe to an interactive table.\"\n",
              "              style=\"display:none;\">\n",
              "        \n",
              "  <svg xmlns=\"http://www.w3.org/2000/svg\" height=\"24px\"viewBox=\"0 0 24 24\"\n",
              "       width=\"24px\">\n",
              "    <path d=\"M0 0h24v24H0V0z\" fill=\"none\"/>\n",
              "    <path d=\"M18.56 5.44l.94 2.06.94-2.06 2.06-.94-2.06-.94-.94-2.06-.94 2.06-2.06.94zm-11 1L8.5 8.5l.94-2.06 2.06-.94-2.06-.94L8.5 2.5l-.94 2.06-2.06.94zm10 10l.94 2.06.94-2.06 2.06-.94-2.06-.94-.94-2.06-.94 2.06-2.06.94z\"/><path d=\"M17.41 7.96l-1.37-1.37c-.4-.4-.92-.59-1.43-.59-.52 0-1.04.2-1.43.59L10.3 9.45l-7.72 7.72c-.78.78-.78 2.05 0 2.83L4 21.41c.39.39.9.59 1.41.59.51 0 1.02-.2 1.41-.59l7.78-7.78 2.81-2.81c.8-.78.8-2.07 0-2.86zM5.41 20L4 18.59l7.72-7.72 1.47 1.35L5.41 20z\"/>\n",
              "  </svg>\n",
              "      </button>\n",
              "      \n",
              "  <style>\n",
              "    .colab-df-container {\n",
              "      display:flex;\n",
              "      flex-wrap:wrap;\n",
              "      gap: 12px;\n",
              "    }\n",
              "\n",
              "    .colab-df-convert {\n",
              "      background-color: #E8F0FE;\n",
              "      border: none;\n",
              "      border-radius: 50%;\n",
              "      cursor: pointer;\n",
              "      display: none;\n",
              "      fill: #1967D2;\n",
              "      height: 32px;\n",
              "      padding: 0 0 0 0;\n",
              "      width: 32px;\n",
              "    }\n",
              "\n",
              "    .colab-df-convert:hover {\n",
              "      background-color: #E2EBFA;\n",
              "      box-shadow: 0px 1px 2px rgba(60, 64, 67, 0.3), 0px 1px 3px 1px rgba(60, 64, 67, 0.15);\n",
              "      fill: #174EA6;\n",
              "    }\n",
              "\n",
              "    [theme=dark] .colab-df-convert {\n",
              "      background-color: #3B4455;\n",
              "      fill: #D2E3FC;\n",
              "    }\n",
              "\n",
              "    [theme=dark] .colab-df-convert:hover {\n",
              "      background-color: #434B5C;\n",
              "      box-shadow: 0px 1px 3px 1px rgba(0, 0, 0, 0.15);\n",
              "      filter: drop-shadow(0px 1px 2px rgba(0, 0, 0, 0.3));\n",
              "      fill: #FFFFFF;\n",
              "    }\n",
              "  </style>\n",
              "\n",
              "      <script>\n",
              "        const buttonEl =\n",
              "          document.querySelector('#df-785f3286-2354-4bc1-a58c-0c2b95bddb65 button.colab-df-convert');\n",
              "        buttonEl.style.display =\n",
              "          google.colab.kernel.accessAllowed ? 'block' : 'none';\n",
              "\n",
              "        async function convertToInteractive(key) {\n",
              "          const element = document.querySelector('#df-785f3286-2354-4bc1-a58c-0c2b95bddb65');\n",
              "          const dataTable =\n",
              "            await google.colab.kernel.invokeFunction('convertToInteractive',\n",
              "                                                     [key], {});\n",
              "          if (!dataTable) return;\n",
              "\n",
              "          const docLinkHtml = 'Like what you see? Visit the ' +\n",
              "            '<a target=\"_blank\" href=https://colab.research.google.com/notebooks/data_table.ipynb>data table notebook</a>'\n",
              "            + ' to learn more about interactive tables.';\n",
              "          element.innerHTML = '';\n",
              "          dataTable['output_type'] = 'display_data';\n",
              "          await google.colab.output.renderOutput(dataTable, element);\n",
              "          const docLink = document.createElement('div');\n",
              "          docLink.innerHTML = docLinkHtml;\n",
              "          element.appendChild(docLink);\n",
              "        }\n",
              "      </script>\n",
              "    </div>\n",
              "  </div>\n",
              "  "
            ]
          },
          "metadata": {},
          "execution_count": 24
        }
      ],
      "source": [
        "new_df = pd.concat([x,pd.DataFrame(y.tolist(),columns=[\"class\"])], axis = 1)\n",
        "new_df.head()"
      ]
    },
    {
      "cell_type": "code",
      "execution_count": 25,
      "metadata": {
        "id": "A91E-M7zrsDs",
        "outputId": "9001644f-ff58-49cc-fdd1-fe76af5db154",
        "colab": {
          "base_uri": "https://localhost:8080/",
          "height": 337
        }
      },
      "outputs": [
        {
          "output_type": "stream",
          "name": "stderr",
          "text": [
            "/usr/local/lib/python3.7/dist-packages/seaborn/_decorators.py:43: FutureWarning: Pass the following variable as a keyword arg: x. From version 0.12, the only valid positional argument will be `data`, and passing other arguments without an explicit keyword will result in an error or misinterpretation.\n",
            "  FutureWarning\n"
          ]
        },
        {
          "output_type": "execute_result",
          "data": {
            "text/plain": [
              "<matplotlib.axes._subplots.AxesSubplot at 0x7f64ae5ed990>"
            ]
          },
          "metadata": {},
          "execution_count": 25
        },
        {
          "output_type": "display_data",
          "data": {
            "text/plain": [
              "<Figure size 432x288 with 1 Axes>"
            ],
            "image/png": "[encoded data removed]"
          },
          "metadata": {
            "needs_background": "light"
          }
        }
      ],
      "source": [
        "sns.countplot(y, palette='magma')"
      ]
    },
    {
      "cell_type": "code",
      "execution_count": 26,
      "metadata": {
        "id": "8W10cY8XrsDs",
        "outputId": "36207893-826d-475a-e9dc-70bea9585001",
        "colab": {
          "base_uri": "https://localhost:8080/",
          "height": 293
        }
      },
      "outputs": [
        {
          "output_type": "display_data",
          "data": {
            "text/plain": [
              "<Figure size 432x288 with 1 Axes>"
            ],
            "image/png": "[encoded data removed]"
          },
          "metadata": {
            "needs_background": "light"
          }
        }
      ],
      "source": [
        "plt.hist(new_df['u'], bins = 15, color = 'green')\n",
        "plt.title(\"Histogram Plot\", fontsize = 10)\n",
        "plt.xlabel(\"Ultraviolet (u)\")\n",
        "plt.ylabel(\"Frequency in Range\")\n",
        "plt.show()"
      ]
    },
    {
      "cell_type": "code",
      "execution_count": null,
      "metadata": {
        "id": "-_CrVqHUrsDs"
      },
      "outputs": [],
      "source": [
        "#sns.scatterplot(x = 'r', y = 'g', data = new_df, hue ='class', palette='plasma')"
      ]
    },
    {
      "cell_type": "markdown",
      "metadata": {
        "id": "BYkatqiMrsDs"
      },
      "source": [
        "## Scalinig the Data."
      ]
    },
    {
      "cell_type": "code",
      "execution_count": 27,
      "metadata": {
        "id": "lZtGKe5_rsDt"
      },
      "outputs": [],
      "source": [
        "from sklearn.preprocessing import StandardScaler\n",
        "scaler = StandardScaler()\n",
        "scaler.fit(x)\n",
        "x = scaler.transform(x)"
      ]
    },
    {
      "cell_type": "code",
      "execution_count": 28,
      "metadata": {
        "id": "i6-WNRnXrsDt"
      },
      "outputs": [],
      "source": [
        "from sklearn.ensemble import RandomForestClassifier\n",
        "from sklearn import svm\n",
        "from sklearn.metrics import accuracy_score,confusion_matrix,classification_report\n",
        "\n",
        "\n",
        "from yellowbrick.classifier import ConfusionMatrix\n",
        "from yellowbrick.classifier import ClassPredictionError\n",
        "from yellowbrick.classifier import ROCAUC\n",
        "from yellowbrick.style import set_palette"
      ]
    },
    {
      "cell_type": "code",
      "execution_count": 29,
      "metadata": {
        "id": "pA75f5VyrsDt"
      },
      "outputs": [],
      "source": [
        "from sklearn.model_selection import train_test_split\n",
        "x_train, x_test, y_train, y_test = train_test_split(x, y, test_size = 0.33, random_state = 42)"
      ]
    },
    {
      "cell_type": "markdown",
      "source": [
        "## SVM Kernel = \"poly\""
      ],
      "metadata": {
        "id": "pobhchlgs8Ly"
      }
    },
    {
      "cell_type": "code",
      "execution_count": 30,
      "metadata": {
        "id": "9OIN3nwursDt",
        "outputId": "c0a0ec91-9d54-4370-e87e-43a041878ba5",
        "colab": {
          "base_uri": "https://localhost:8080/"
        }
      },
      "outputs": [
        {
          "output_type": "execute_result",
          "data": {
            "text/plain": [
              "SVC(degree=2, kernel='poly')"
            ]
          },
          "metadata": {},
          "execution_count": 30
        }
      ],
      "source": [
        "from sklearn import svm\n",
        "model = svm.SVC(kernel='poly', degree=2)\n",
        "model.fit(x_train, y_train)"
      ]
    },
    {
      "cell_type": "code",
      "execution_count": 31,
      "metadata": {
        "id": "iJ4w3bw_rsDt"
      },
      "outputs": [],
      "source": [
        "y_pred = model.predict(x_test)"
      ]
    },
    {
      "cell_type": "code",
      "execution_count": 32,
      "metadata": {
        "id": "XKhtyDRsrsDu",
        "outputId": "c049a06d-3308-4558-86f0-ca105c80c555",
        "colab": {
          "base_uri": "https://localhost:8080/"
        }
      },
      "outputs": [
        {
          "output_type": "stream",
          "name": "stdout",
          "text": [
            "              precision    recall  f1-score   support\n",
            "\n",
            "           0       0.93      0.79      0.86     22941\n",
            "           1       0.72      0.83      0.77     16764\n",
            "           2       0.86      0.90      0.88     18305\n",
            "\n",
            "    accuracy                           0.84     58010\n",
            "   macro avg       0.84      0.84      0.84     58010\n",
            "weighted avg       0.85      0.84      0.84     58010\n",
            "\n"
          ]
        }
      ],
      "source": [
        "report = classification_report(y_pred, y_test)\n",
        "print(report)"
      ]
    },
    {
      "cell_type": "code",
      "execution_count": 33,
      "metadata": {
        "id": "5ZsdtqF1rsDu",
        "colab": {
          "base_uri": "https://localhost:8080/"
        },
        "outputId": "34b2d16a-28c8-410f-c52a-e503798f100a"
      },
      "outputs": [
        {
          "output_type": "execute_result",
          "data": {
            "text/plain": [
              "0.8371315290467161"
            ]
          },
          "metadata": {},
          "execution_count": 33
        }
      ],
      "source": [
        "model.score(x_test, y_test)"
      ]
    },
    {
      "cell_type": "code",
      "execution_count": 109,
      "metadata": {
        "id": "7e-eDHXorsDu",
        "outputId": "5af74601-78ac-432f-d3f6-cc764e7ce416",
        "colab": {
          "base_uri": "https://localhost:8080/"
        }
      },
      "outputs": [
        {
          "output_type": "execute_result",
          "data": {
            "text/plain": [
              "0.8371315290467161"
            ]
          },
          "metadata": {},
          "execution_count": 109
        }
      ],
      "source": [
        "svmPolyacc = accuracy_score(y_test, y_pred)\n",
        "svmPolyacc"
      ]
    },
    {
      "cell_type": "code",
      "execution_count": 35,
      "metadata": {
        "id": "M5T2WOMTrsDu",
        "outputId": "2746007c-8a84-4ea5-d4b8-dd2c147d1644",
        "colab": {
          "base_uri": "https://localhost:8080/",
          "height": 453
        }
      },
      "outputs": [
        {
          "output_type": "stream",
          "name": "stderr",
          "text": [
            "/usr/local/lib/python3.7/dist-packages/yellowbrick/classifier/base.py:234: YellowbrickWarning: could not determine class_counts_ from previously fitted classifier\n",
            "  YellowbrickWarning,\n"
          ]
        },
        {
          "output_type": "display_data",
          "data": {
            "text/plain": [
              "<Figure size 576x396 with 1 Axes>"
            ],
            "image/png": "[encoded data removed]"
          },
          "metadata": {}
        },
        {
          "output_type": "execute_result",
          "data": {
            "text/plain": [
              "<matplotlib.axes._subplots.AxesSubplot at 0x7f64ac706e50>"
            ]
          },
          "metadata": {},
          "execution_count": 35
        }
      ],
      "source": [
        "classes = ['GALAXY','STAR','QSO']\n",
        "svm_cm = ConfusionMatrix(model, classes=classes, cmap='GnBu')\n",
        "svm_cm.score(x_test, y_test)\n",
        "svm_cm.show()"
      ]
    },
    {
      "cell_type": "code",
      "execution_count": 36,
      "metadata": {
        "id": "fkn2ees3rsDu",
        "outputId": "787cb973-a134-4c5a-bfa8-c37aadf45d90",
        "colab": {
          "base_uri": "https://localhost:8080/",
          "height": 394
        }
      },
      "outputs": [
        {
          "output_type": "display_data",
          "data": {
            "text/plain": [
              "<Figure size 576x396 with 1 Axes>"
            ],
            "image/png": "[encoded data removed]"
          },
          "metadata": {}
        },
        {
          "output_type": "execute_result",
          "data": {
            "text/plain": [
              "<matplotlib.axes._subplots.AxesSubplot at 0x7f64ac6fe150>"
            ]
          },
          "metadata": {},
          "execution_count": 36
        }
      ],
      "source": [
        "visualizer = ROCAUC(model, classes=classes)\n",
        "\n",
        "set_palette('bold')\n",
        "\n",
        "visualizer.fit(x_train, y_train)        # Fit the training data to the visualizer\n",
        "visualizer.score(x_test, y_test)        # Evaluate the model on the test data\n",
        "visualizer.show()    "
      ]
    },
    {
      "cell_type": "code",
      "execution_count": 37,
      "metadata": {
        "id": "8Q2-WEP4rsDu",
        "outputId": "0a4b6926-bc1c-40bc-d001-0f7e31d058af",
        "colab": {
          "base_uri": "https://localhost:8080/",
          "height": 418
        }
      },
      "outputs": [
        {
          "output_type": "display_data",
          "data": {
            "text/plain": [
              "<Figure size 576x396 with 1 Axes>"
            ],
            "image/png": "[encoded data removed]"
          },
          "metadata": {}
        },
        {
          "output_type": "execute_result",
          "data": {
            "text/plain": [
              "<matplotlib.axes._subplots.AxesSubplot at 0x7f64ad85bf50>"
            ]
          },
          "metadata": {},
          "execution_count": 37
        }
      ],
      "source": [
        "visualizer = ClassPredictionError(model, classes=classes)\n",
        "\n",
        "set_palette('pastel')\n",
        "\n",
        "visualizer.fit(x_train, y_train)        # Fit the training data to the visualizer\n",
        "visualizer.score(x_test, y_test)        # Evaluate the model on the test data\n",
        "visualizer.show()   "
      ]
    },
    {
      "cell_type": "markdown",
      "metadata": {
        "id": "-UqoF4J7rsDv"
      },
      "source": [
        "## SVM Kernel = \"RBF\""
      ]
    },
    {
      "cell_type": "code",
      "execution_count": 38,
      "metadata": {
        "id": "ZSbKux6XrsDv",
        "outputId": "d800f839-b5a6-43d5-c561-5bf90bdc4ddd",
        "colab": {
          "base_uri": "https://localhost:8080/"
        }
      },
      "outputs": [
        {
          "output_type": "stream",
          "name": "stdout",
          "text": [
            "Accuracy : 0.966\n"
          ]
        }
      ],
      "source": [
        "svm_clf = svm.SVC(kernel='rbf', C=1, random_state=0)\n",
        "svm_clf.fit(x_train,y_train)\n",
        "predicted = svm_clf.predict(x_test)\n",
        "score = svm_clf.score(x_test, y_test)\n",
        "svm_score_ = np.mean(score)\n",
        "\n",
        "print('Accuracy : %.3f' % (svm_score_))"
      ]
    },
    {
      "cell_type": "code",
      "execution_count": 39,
      "metadata": {
        "id": "XoUjWUR9rsDv",
        "outputId": "db158440-ea03-4480-bb89-8b40279f739d",
        "colab": {
          "base_uri": "https://localhost:8080/",
          "height": 418
        }
      },
      "outputs": [
        {
          "output_type": "display_data",
          "data": {
            "text/plain": [
              "<Figure size 576x396 with 1 Axes>"
            ],
            "image/png": "[encoded data removed]"
          },
          "metadata": {}
        },
        {
          "output_type": "execute_result",
          "data": {
            "text/plain": [
              "<matplotlib.axes._subplots.AxesSubplot at 0x7f64ad7f53d0>"
            ]
          },
          "metadata": {},
          "execution_count": 39
        }
      ],
      "source": [
        "svm_cm = ConfusionMatrix(svm_clf, classes=classes, cmap='GnBu')\n",
        "\n",
        "svm_cm.fit(x_train, y_train)\n",
        "svm_cm.score(x_test, y_test)\n",
        "svm_cm.show()"
      ]
    },
    {
      "cell_type": "code",
      "execution_count": 40,
      "metadata": {
        "id": "HEmJN_5jrsDv",
        "outputId": "d72869c8-8b18-403b-dfd5-ab708349f091",
        "colab": {
          "base_uri": "https://localhost:8080/"
        }
      },
      "outputs": [
        {
          "output_type": "stream",
          "name": "stdout",
          "text": [
            "              precision    recall  f1-score   support\n",
            "\n",
            "           0       0.95      0.95      0.95     19422\n",
            "           1       0.98      0.95      0.96     19260\n",
            "           2       0.97      1.00      0.98     19328\n",
            "\n",
            "    accuracy                           0.97     58010\n",
            "   macro avg       0.97      0.97      0.97     58010\n",
            "weighted avg       0.97      0.97      0.97     58010\n",
            "\n"
          ]
        }
      ],
      "source": [
        "print(classification_report(y_test, predicted))"
      ]
    },
    {
      "cell_type": "code",
      "execution_count": 41,
      "metadata": {
        "id": "cW6tJvB4rsDv",
        "outputId": "a1322143-6dfd-441d-a54d-a1014bb66685",
        "colab": {
          "base_uri": "https://localhost:8080/",
          "height": 418
        }
      },
      "outputs": [
        {
          "output_type": "display_data",
          "data": {
            "text/plain": [
              "<Figure size 576x396 with 1 Axes>"
            ],
            "image/png": "[encoded data removed]"
          },
          "metadata": {}
        },
        {
          "output_type": "execute_result",
          "data": {
            "text/plain": [
              "<matplotlib.axes._subplots.AxesSubplot at 0x7f64ac5c8990>"
            ]
          },
          "metadata": {},
          "execution_count": 41
        }
      ],
      "source": [
        "visualizer = ClassPredictionError(svm_clf, classes=classes)\n",
        "\n",
        "set_palette('pastel')\n",
        "\n",
        "visualizer.fit(x_train, y_train)        # Fit the training data to the visualizer\n",
        "visualizer.score(x_test, y_test)        # Evaluate the model on the test data\n",
        "visualizer.show()   "
      ]
    },
    {
      "cell_type": "markdown",
      "metadata": {
        "id": "4uO4HOBorsDv"
      },
      "source": [
        "## Logistic Regression"
      ]
    },
    {
      "cell_type": "code",
      "execution_count": 42,
      "metadata": {
        "id": "KTbxCP0CrsDv"
      },
      "outputs": [],
      "source": [
        "from sklearn.linear_model import LogisticRegression\n",
        "logit_model = LogisticRegression(C = 10, max_iter=100, solver='liblinear',tol=0.001,random_state=0)"
      ]
    },
    {
      "cell_type": "code",
      "execution_count": 43,
      "metadata": {
        "id": "uDypP93krsDw",
        "outputId": "e648f6d7-bb87-40d6-e877-e2a341f576a2",
        "colab": {
          "base_uri": "https://localhost:8080/"
        }
      },
      "outputs": [
        {
          "output_type": "stream",
          "name": "stdout",
          "text": [
            "Intercept :  [ -1.13679714  -0.29827087 -78.64208893]\n",
            "Slope :  [[ 1.59212041e-01  4.95103951e+01 -2.48987049e+00 -1.45236145e+00\n",
            "   8.69908711e-01  1.57891156e+01 -1.18129938e-01 -1.51878245e+01\n",
            "  -6.22296660e-01]\n",
            " [-1.49561295e+01 -4.80912362e+00 -2.15658921e+00  1.43160698e+00\n",
            "   1.97439683e+01 -1.06461696e+00  6.85077590e+00  4.62239131e-01\n",
            "   1.95650437e-01]\n",
            " [ 7.59091317e+00 -6.36674786e+00  3.60149576e-01  3.29650662e-03\n",
            "  -1.22165489e+00 -8.35409403e-01 -1.01273061e+02 -9.37359320e-01\n",
            "   1.81529034e+00]]\n"
          ]
        }
      ],
      "source": [
        "logit_model.fit(x_train, y_train)\n",
        "print('Intercept : ', logit_model.intercept_)\n",
        "print('Slope : ', logit_model.coef_)"
      ]
    },
    {
      "cell_type": "code",
      "execution_count": 44,
      "metadata": {
        "id": "hb1jErNUrsDw"
      },
      "outputs": [],
      "source": [
        "# Use the model to predict the test dataset.\n",
        "y_logit_model_pred_test = logit_model.predict(x_test)\n",
        "# Use the model to predict the train dataset.\n",
        "y_logit_model_pred_train = logit_model.predict(x_train)"
      ]
    },
    {
      "cell_type": "code",
      "execution_count": 45,
      "metadata": {
        "id": "BYq3jyFwrsDw",
        "outputId": "dbbf7f7e-daba-4f7c-adcc-5815338ee548",
        "colab": {
          "base_uri": "https://localhost:8080/"
        }
      },
      "outputs": [
        {
          "output_type": "stream",
          "name": "stdout",
          "text": [
            "              precision    recall  f1-score   support\n",
            "\n",
            "           0       0.90      0.95      0.93     18403\n",
            "           1       0.96      0.93      0.95     19786\n",
            "           2       1.00      0.97      0.98     19821\n",
            "\n",
            "    accuracy                           0.95     58010\n",
            "   macro avg       0.95      0.95      0.95     58010\n",
            "weighted avg       0.95      0.95      0.95     58010\n",
            "\n"
          ]
        }
      ],
      "source": [
        "report = classification_report(y_logit_model_pred_test, y_test)\n",
        "print(report)"
      ]
    },
    {
      "cell_type": "code",
      "source": [
        "score_Logit = logit_model.score(x_test, y_test)\n",
        "logit_score_ = np.mean(score_Logit)\n",
        "\n",
        "print('Accuracy : %.3f' % (logit_score_))"
      ],
      "metadata": {
        "colab": {
          "base_uri": "https://localhost:8080/"
        },
        "id": "1NDbmrZYlVL0",
        "outputId": "e1b89283-655d-4608-ab01-e0f18e50d73c"
      },
      "execution_count": 47,
      "outputs": [
        {
          "output_type": "stream",
          "name": "stdout",
          "text": [
            "Accuracy : 0.953\n"
          ]
        }
      ]
    },
    {
      "cell_type": "markdown",
      "metadata": {
        "id": "XlkopIz_rsDw"
      },
      "source": [
        "## Random Forest"
      ]
    },
    {
      "cell_type": "code",
      "execution_count": 48,
      "metadata": {
        "id": "jHN9HhPvrsDw",
        "outputId": "66944c7d-f3c1-4f3a-a3df-87e5ec6149ff",
        "colab": {
          "base_uri": "https://localhost:8080/"
        }
      },
      "outputs": [
        {
          "output_type": "stream",
          "name": "stdout",
          "text": [
            "Accuracy : 0.983\n"
          ]
        }
      ],
      "source": [
        "r_forest = RandomForestClassifier()\n",
        "r_forest.fit(x_train,y_train)\n",
        "predicted = r_forest.predict(x_test)\n",
        "score = r_forest.score(x_test, y_test)\n",
        "rf_score_ = np.mean(score)\n",
        "\n",
        "print('Accuracy : %.3f' % (rf_score_))"
      ]
    },
    {
      "cell_type": "code",
      "execution_count": 49,
      "metadata": {
        "id": "aOEmoJRZrsDx",
        "outputId": "c1cf06fd-9186-4533-d18a-e618fc7a689e",
        "colab": {
          "base_uri": "https://localhost:8080/",
          "height": 418
        }
      },
      "outputs": [
        {
          "output_type": "display_data",
          "data": {
            "text/plain": [
              "<Figure size 576x396 with 1 Axes>"
            ],
            "image/png": "[encoded data removed]"
          },
          "metadata": {}
        },
        {
          "output_type": "execute_result",
          "data": {
            "text/plain": [
              "<matplotlib.axes._subplots.AxesSubplot at 0x7f64ac4e9750>"
            ]
          },
          "metadata": {},
          "execution_count": 49
        }
      ],
      "source": [
        "classes = ['GALAXY','STAR','QSO']\n",
        "r_forest_cm = ConfusionMatrix(r_forest, classes=classes, cmap='GnBu')\n",
        "\n",
        "r_forest_cm.fit(x_train, y_train)\n",
        "r_forest_cm.score(x_test, y_test)\n",
        "r_forest_cm.show()"
      ]
    },
    {
      "cell_type": "code",
      "execution_count": 50,
      "metadata": {
        "id": "IRg7LzuprsDx",
        "outputId": "4eb99ee3-274f-424f-87a7-dc65d33cf9b7",
        "colab": {
          "base_uri": "https://localhost:8080/"
        }
      },
      "outputs": [
        {
          "output_type": "stream",
          "name": "stdout",
          "text": [
            "              precision    recall  f1-score   support\n",
            "\n",
            "           0       0.97      0.98      0.98     19422\n",
            "           1       0.98      0.97      0.98     19260\n",
            "           2       1.00      1.00      1.00     19328\n",
            "\n",
            "    accuracy                           0.98     58010\n",
            "   macro avg       0.98      0.98      0.98     58010\n",
            "weighted avg       0.98      0.98      0.98     58010\n",
            "\n"
          ]
        }
      ],
      "source": [
        "print(classification_report(y_test, predicted))"
      ]
    },
    {
      "cell_type": "code",
      "execution_count": 51,
      "metadata": {
        "id": "o7PBAzOLrsDx",
        "outputId": "fc8f5042-3f60-4249-c25f-7724dfd15483",
        "colab": {
          "base_uri": "https://localhost:8080/",
          "height": 394
        }
      },
      "outputs": [
        {
          "output_type": "display_data",
          "data": {
            "text/plain": [
              "<Figure size 576x396 with 1 Axes>"
            ],
            "image/png": "[encoded data removed]"
          },
          "metadata": {}
        },
        {
          "output_type": "execute_result",
          "data": {
            "text/plain": [
              "<matplotlib.axes._subplots.AxesSubplot at 0x7f64ac446750>"
            ]
          },
          "metadata": {},
          "execution_count": 51
        }
      ],
      "source": [
        "visualizer = ROCAUC(r_forest, classes=[\"GALAXY\", \"STAR\", \"QSO\"])\n",
        "\n",
        "set_palette('bold')\n",
        "\n",
        "visualizer.fit(x_train, y_train)       \n",
        "visualizer.score(x_test, y_test)        \n",
        "visualizer.show() "
      ]
    },
    {
      "cell_type": "markdown",
      "source": [
        "## Decision Tree"
      ],
      "metadata": {
        "id": "55pB3LkfBidd"
      }
    },
    {
      "cell_type": "code",
      "source": [
        "from sklearn.tree import DecisionTreeClassifier\n",
        "dtree_model = DecisionTreeClassifier()\n",
        "dtree_model.fit(x_train,y_train)\n",
        "predictedDT = dtree_model.predict(x_test)\n",
        "score = dtree_model.score(x_test, y_test)\n",
        "dt_score_ = np.mean(score)\n",
        "\n",
        "print('Accuracy : %.3f' % (dt_score_))"
      ],
      "metadata": {
        "colab": {
          "base_uri": "https://localhost:8080/"
        },
        "id": "lNg_VpzvBkX2",
        "outputId": "44dac71a-628c-4cdb-b5a4-c9555d052ef3"
      },
      "execution_count": 113,
      "outputs": [
        {
          "output_type": "stream",
          "name": "stdout",
          "text": [
            "Accuracy : 0.972\n"
          ]
        }
      ]
    },
    {
      "cell_type": "markdown",
      "metadata": {
        "id": "AcQxvnorrsDx"
      },
      "source": [
        "## Deep Learning"
      ]
    },
    {
      "cell_type": "code",
      "execution_count": 52,
      "metadata": {
        "id": "imcteDUyrsDx",
        "outputId": "66e0a3c1-aa9e-40ee-beba-9b83e2b45221",
        "colab": {
          "base_uri": "https://localhost:8080/"
        }
      },
      "outputs": [
        {
          "output_type": "execute_result",
          "data": {
            "text/plain": [
              "(9,)"
            ]
          },
          "metadata": {},
          "execution_count": 52
        }
      ],
      "source": [
        "x[0].shape"
      ]
    },
    {
      "cell_type": "code",
      "execution_count": 53,
      "metadata": {
        "id": "jtnWIQAMrsDx",
        "outputId": "146ea984-e43b-4496-a39c-7a8c7d3bf6e9",
        "colab": {
          "base_uri": "https://localhost:8080/"
        }
      },
      "outputs": [
        {
          "output_type": "execute_result",
          "data": {
            "text/plain": [
              "(175785,)"
            ]
          },
          "metadata": {},
          "execution_count": 53
        }
      ],
      "source": [
        "y.shape"
      ]
    },
    {
      "cell_type": "code",
      "execution_count": 54,
      "metadata": {
        "id": "8VOLwoGWrsDx"
      },
      "outputs": [],
      "source": [
        "import tensorflow as tf\n",
        "from tensorflow.keras import datasets, layers, models\n",
        "import matplotlib.pyplot as plt\n",
        "import numpy as np\n",
        "from glob import glob\n",
        "import cv2\n",
        "import os"
      ]
    },
    {
      "cell_type": "code",
      "execution_count": 82,
      "metadata": {
        "id": "kF5tK8iZrsDx"
      },
      "outputs": [],
      "source": [
        "ann = models.Sequential([\n",
        "    layers.Dense(30, activation='relu', input_shape=(9,)),\n",
        "    layers.Dense(20, activation='relu'),\n",
        "    layers.Dense(3, activation='softmax')\n",
        "])"
      ]
    },
    {
      "cell_type": "code",
      "execution_count": 83,
      "metadata": {
        "id": "Oyi5qKjgrsDy"
      },
      "outputs": [],
      "source": [
        "ann.compile(\n",
        "  loss='sparse_categorical_crossentropy',\n",
        "  optimizer='adam',\n",
        "  metrics=['accuracy']\n",
        ")"
      ]
    },
    {
      "cell_type": "code",
      "execution_count": 84,
      "metadata": {
        "id": "ccJD5ptyrsDy",
        "outputId": "b6f8a878-3a6d-4aa6-8423-b18d80d82268",
        "colab": {
          "base_uri": "https://localhost:8080/"
        }
      },
      "outputs": [
        {
          "output_type": "stream",
          "name": "stdout",
          "text": [
            "Epoch 1/10\n",
            "3681/3681 [==============================] - 15s 4ms/step - loss: 0.2221 - accuracy: 0.9338 - val_loss: 0.1257 - val_accuracy: 0.9575\n",
            "Epoch 2/10\n",
            "3681/3681 [==============================] - 10s 3ms/step - loss: 0.1383 - accuracy: 0.9646 - val_loss: 0.1107 - val_accuracy: 0.9660\n",
            "Epoch 3/10\n",
            "3681/3681 [==============================] - 10s 3ms/step - loss: 0.1044 - accuracy: 0.9676 - val_loss: 0.1021 - val_accuracy: 0.9672\n",
            "Epoch 4/10\n",
            "3681/3681 [==============================] - 9s 2ms/step - loss: 0.0964 - accuracy: 0.9696 - val_loss: 0.0941 - val_accuracy: 0.9698\n",
            "Epoch 5/10\n",
            "3681/3681 [==============================] - 10s 3ms/step - loss: 0.0938 - accuracy: 0.9705 - val_loss: 0.0925 - val_accuracy: 0.9724\n",
            "Epoch 6/10\n",
            "3681/3681 [==============================] - 9s 3ms/step - loss: 0.0912 - accuracy: 0.9711 - val_loss: 0.0886 - val_accuracy: 0.9718\n",
            "Epoch 7/10\n",
            "3681/3681 [==============================] - 11s 3ms/step - loss: 0.0891 - accuracy: 0.9720 - val_loss: 0.1044 - val_accuracy: 0.9679\n",
            "Epoch 8/10\n",
            "3681/3681 [==============================] - 17s 5ms/step - loss: 0.0885 - accuracy: 0.9723 - val_loss: 0.0846 - val_accuracy: 0.9736\n",
            "Epoch 9/10\n",
            "3681/3681 [==============================] - 20s 5ms/step - loss: 0.0871 - accuracy: 0.9723 - val_loss: 0.0853 - val_accuracy: 0.9736\n",
            "Epoch 10/10\n",
            "3681/3681 [==============================] - 18s 5ms/step - loss: 0.0873 - accuracy: 0.9721 - val_loss: 0.0841 - val_accuracy: 0.9738\n"
          ]
        },
        {
          "output_type": "execute_result",
          "data": {
            "text/plain": [
              "<keras.callbacks.History at 0x7f643563a290>"
            ]
          },
          "metadata": {},
          "execution_count": 84
        }
      ],
      "source": [
        "val_data=(x_test,y_test)\n",
        "ann.fit(x_train, y_train, epochs=10, validation_data=val_data, shuffle=True)"
      ]
    },
    {
      "cell_type": "code",
      "execution_count": 58,
      "metadata": {
        "id": "8KVyvwT6rsDy",
        "outputId": "df23e7a0-7671-44a2-c4d9-9d38144fbab1",
        "colab": {
          "base_uri": "https://localhost:8080/",
          "height": 376
        }
      },
      "outputs": [
        {
          "output_type": "display_data",
          "data": {
            "text/plain": [
              "<Figure size 576x396 with 1 Axes>"
            ],
            "image/png": "[encoded data removed]"
          },
          "metadata": {}
        }
      ],
      "source": [
        "# plot the loss\n",
        "plt.plot(ann.history.history['loss'], label='train loss')\n",
        "plt.plot(ann.history.history['val_loss'], label='val loss')\n",
        "plt.legend()\n",
        "plt.xlabel(\"Epoch\")\n",
        "plt.ylabel(\"Loss\")\n",
        "plt.title(\"Loss vs Epoch\")\n",
        "plt.show()\n",
        "#plt.savefig('LossVal_loss')"
      ]
    },
    {
      "cell_type": "code",
      "execution_count": 59,
      "metadata": {
        "id": "WbVQ_j_srsDy",
        "outputId": "13742347-abaa-49e1-9e43-80fef43c37b9",
        "colab": {
          "base_uri": "https://localhost:8080/",
          "height": 376
        }
      },
      "outputs": [
        {
          "output_type": "display_data",
          "data": {
            "text/plain": [
              "<Figure size 576x396 with 1 Axes>"
            ],
            "image/png": "[encoded data removed]"
          },
          "metadata": {}
        }
      ],
      "source": [
        "# plot the accuracy\n",
        "plt.plot(ann.history.history['accuracy'], label='train acc')\n",
        "plt.plot(ann.history.history['val_accuracy'], label='val acc')\n",
        "plt.legend()\n",
        "plt.xlabel(\"Epoch\")\n",
        "plt.ylabel(\"Accuracy\")\n",
        "plt.title(\"Accuracy vs Epoch\")\n",
        "plt.show()\n",
        "#plt.savefig('AccVal_acc')"
      ]
    },
    {
      "cell_type": "code",
      "execution_count": 111,
      "metadata": {
        "id": "Mvrax78xrsDy",
        "outputId": "549af32c-3bc2-4c78-a603-2be037df2989",
        "colab": {
          "base_uri": "https://localhost:8080/"
        }
      },
      "outputs": [
        {
          "output_type": "stream",
          "name": "stdout",
          "text": [
            "1813/1813 [==============================] - 5s 3ms/step - loss: 0.0841 - accuracy: 0.9738\n"
          ]
        }
      ],
      "source": [
        "ann_loss,ann_score_ = ann.evaluate(x_test,y_test)"
      ]
    },
    {
      "cell_type": "code",
      "execution_count": 112,
      "metadata": {
        "id": "_ZEybKRcrsDy",
        "colab": {
          "base_uri": "https://localhost:8080/"
        },
        "outputId": "478c85a8-3299-4fcd-8ee8-8e71a6e007c6"
      },
      "outputs": [
        {
          "output_type": "execute_result",
          "data": {
            "text/plain": [
              "0.973797619342804"
            ]
          },
          "metadata": {},
          "execution_count": 112
        }
      ],
      "source": [
        "ann_score_"
      ]
    },
    {
      "cell_type": "markdown",
      "source": [
        "## MLP Classifier"
      ],
      "metadata": {
        "id": "sFL3SyBgGE-D"
      }
    },
    {
      "cell_type": "code",
      "source": [
        "from sklearn.neural_network import MLPClassifier\n",
        "mlp = MLPClassifier(7)\n",
        "mlp.fit(x_train, y_train)\n",
        "prediction_mlp = mlp.predict(x_test)"
      ],
      "metadata": {
        "id": "tNAaTsfnDa7W"
      },
      "execution_count": 140,
      "outputs": []
    },
    {
      "cell_type": "code",
      "source": [
        "mlp_score_ = accuracy_score(y_test, prediction_mlp)\n",
        "mlp_score_"
      ],
      "metadata": {
        "colab": {
          "base_uri": "https://localhost:8080/"
        },
        "id": "LPSEuM_XDkkq",
        "outputId": "3e0119a2-8f7b-488b-853e-50a86dcfe8e9"
      },
      "execution_count": 141,
      "outputs": [
        {
          "output_type": "execute_result",
          "data": {
            "text/plain": [
              "0.9726254094121703"
            ]
          },
          "metadata": {},
          "execution_count": 141
        }
      ]
    },
    {
      "cell_type": "markdown",
      "source": [
        "## Comparison"
      ],
      "metadata": {
        "id": "DVoLn80HBHwW"
      }
    },
    {
      "cell_type": "code",
      "source": [
        "var1 = svmPolyacc * 100\n",
        "var2 = svm_score_ * 100\n",
        "var3 = logit_score_ * 100\n",
        "var4 = rf_score_ * 100\n",
        "var5 = dt_score_ * 100\n",
        "var6 = ann_score_ * 100\n",
        "var7 = mlp_score_ * 100\n"
      ],
      "metadata": {
        "id": "Bs06WSx5BJ12"
      },
      "execution_count": 149,
      "outputs": []
    },
    {
      "cell_type": "code",
      "source": [
        "def addlabels(x,y):\n",
        "  for i in range(len(x)):\n",
        "    plt.text(i,y[i],y[i])"
      ],
      "metadata": {
        "id": "xs4sNXlYJRX7"
      },
      "execution_count": 150,
      "outputs": []
    },
    {
      "cell_type": "code",
      "source": [
        "import numpy as np\n",
        "import matplotlib.pyplot as plt\n",
        "# Dataset generation\n",
        "data_dict = {'SVM(Poly)':var1, 'SVM(RBF)':var2, 'Logistic Regression':var3, 'Random Forest':var4 , 'ANN':var5 , 'Decision Tree':var6,'Multilayer Perceptron':var7 }\n",
        "models = list(data_dict.keys())\n",
        "values = list(data_dict.values())\n",
        "\n",
        "fig = plt.figure(figsize = (20, 10))\n",
        "#  Bar plot\n",
        "plt.bar(models, values, color ='lightgreen',width = 0.5)\n",
        "addlabels(models,values)\n",
        "plt.xlabel(\"Models\")\n",
        "plt.ylabel(\"Percentage\")\n",
        "plt.title(\"Accuracy Comparison\")\n",
        "plt.show()"
      ],
      "metadata": {
        "colab": {
          "base_uri": "https://localhost:8080/",
          "height": 620
        },
        "id": "c6_aiDWRCqMs",
        "outputId": "a84f2af7-d164-49cf-9f5c-118115e18128"
      },
      "execution_count": 152,
      "outputs": [
        {
          "output_type": "display_data",
          "data": {
            "text/plain": [
              "<Figure size 1440x720 with 1 Axes>"
            ],
            "image/png": "[encoded data removed]"
          },
          "metadata": {}
        }
      ]
    },
    {
      "cell_type": "markdown",
      "source": [
        "## Creating two datasets with less features"
      ],
      "metadata": {
        "id": "DyqGQ_BqBByT"
      }
    },
    {
      "cell_type": "markdown",
      "metadata": {
        "id": "ApIFbqVpD7GL"
      },
      "source": [
        "## Balancing Target Values using SMOTE"
      ]
    },
    {
      "cell_type": "code",
      "source": [
        "df2.columns"
      ],
      "metadata": {
        "colab": {
          "base_uri": "https://localhost:8080/"
        },
        "id": "QBMyljqL06mj",
        "outputId": "c24686a0-da73-4aab-a2ee-abc2b3dd4477"
      },
      "execution_count": 61,
      "outputs": [
        {
          "output_type": "execute_result",
          "data": {
            "text/plain": [
              "Index(['u', 'g', 'i', 'z', 'spec_obj_ID', 'redshift', 'plate', 'MJD', 'class'], dtype='object')"
            ]
          },
          "metadata": {},
          "execution_count": 61
        }
      ]
    },
    {
      "cell_type": "code",
      "source": [
        "df3.columns"
      ],
      "metadata": {
        "colab": {
          "base_uri": "https://localhost:8080/"
        },
        "id": "eSDM25db08v0",
        "outputId": "3dd7d4df-6176-430d-ceea-cd8662f2625f"
      },
      "execution_count": 62,
      "outputs": [
        {
          "output_type": "execute_result",
          "data": {
            "text/plain": [
              "Index(['u', 'g', 'z', 'redshift', 'MJD', 'class'], dtype='object')"
            ]
          },
          "metadata": {},
          "execution_count": 62
        }
      ]
    },
    {
      "cell_type": "code",
      "execution_count": 63,
      "metadata": {
        "id": "mXA9xZuQD7GP"
      },
      "outputs": [],
      "source": [
        "from imblearn.over_sampling import SMOTE\n",
        "from collections import Counter"
      ]
    },
    {
      "cell_type": "code",
      "execution_count": 64,
      "metadata": {
        "id": "nbUbSu4vD7GP"
      },
      "outputs": [],
      "source": [
        "x2 = df2.drop(['class'], axis = 1)\n",
        "y2 = df2.loc[:,'class'].values\n",
        "x3 = df3.drop(['class'], axis = 1)\n",
        "y3 = df3.loc[:,'class'].values"
      ]
    },
    {
      "cell_type": "code",
      "execution_count": 65,
      "metadata": {
        "outputId": "3e61ecf4-1792-4ccf-cdd4-9df7e0175e53",
        "colab": {
          "base_uri": "https://localhost:8080/"
        },
        "id": "6TOIQwe3D7GQ"
      },
      "outputs": [
        {
          "output_type": "stream",
          "name": "stdout",
          "text": [
            "Original dataset df2 shape Counter({0: 58595, 2: 21322, 1: 18835})\n",
            "Resampled dataset df2 shape Counter({0: 58595, 1: 58595, 2: 58595})\n",
            "Original dataset df3 shape Counter({0: 58595, 2: 21322, 1: 18835})\n",
            "Resampled dataset df3 shape Counter({0: 58595, 1: 58595, 2: 58595})\n"
          ]
        }
      ],
      "source": [
        "sm2 = SMOTE(random_state=42)\n",
        "print('Original dataset df2 shape %s' % Counter(y2))\n",
        "x2, y2 = sm2.fit_resample(x2, y2)\n",
        "print('Resampled dataset df2 shape %s' % Counter(y2))\n",
        "sm3 = SMOTE(random_state=42)\n",
        "print('Original dataset df3 shape %s' % Counter(y3))\n",
        "x3, y3 = sm.fit_resample(x3, y3)\n",
        "print('Resampled dataset df3 shape %s' % Counter(y3))"
      ]
    },
    {
      "cell_type": "code",
      "execution_count": 66,
      "metadata": {
        "id": "UftD8z_VD7GQ"
      },
      "outputs": [],
      "source": [
        "new_df2 = pd.concat([x2,pd.DataFrame(y2.tolist(),columns=[\"class\"])], axis = 1)\n",
        "new_df3 = pd.concat([x3,pd.DataFrame(y3.tolist(),columns=[\"class\"])], axis = 1)"
      ]
    },
    {
      "cell_type": "code",
      "execution_count": 67,
      "metadata": {
        "outputId": "6e2b4fb9-6408-4257-fd12-d0ea5c6cff3f",
        "colab": {
          "base_uri": "https://localhost:8080/",
          "height": 419
        },
        "id": "a2vC5Aq2D7GR"
      },
      "outputs": [
        {
          "output_type": "stream",
          "name": "stderr",
          "text": [
            "/usr/local/lib/python3.7/dist-packages/seaborn/_decorators.py:43: FutureWarning: Pass the following variable as a keyword arg: x. From version 0.12, the only valid positional argument will be `data`, and passing other arguments without an explicit keyword will result in an error or misinterpretation.\n",
            "  FutureWarning\n"
          ]
        },
        {
          "output_type": "execute_result",
          "data": {
            "text/plain": [
              "<matplotlib.axes._subplots.AxesSubplot at 0x7f6435cee3d0>"
            ]
          },
          "metadata": {},
          "execution_count": 67
        },
        {
          "output_type": "display_data",
          "data": {
            "text/plain": [
              "<Figure size 576x396 with 1 Axes>"
            ],
            "image/png": "[encoded data removed]"
          },
          "metadata": {}
        }
      ],
      "source": [
        "sns.countplot(y2, palette='magma')"
      ]
    },
    {
      "cell_type": "code",
      "source": [
        "sns.countplot(y3, palette='magma')"
      ],
      "metadata": {
        "colab": {
          "base_uri": "https://localhost:8080/",
          "height": 419
        },
        "id": "K9RP7Z-O1qTB",
        "outputId": "f6c6a1d5-4199-49ed-90e4-c797ebe06d6a"
      },
      "execution_count": 68,
      "outputs": [
        {
          "output_type": "stream",
          "name": "stderr",
          "text": [
            "/usr/local/lib/python3.7/dist-packages/seaborn/_decorators.py:43: FutureWarning: Pass the following variable as a keyword arg: x. From version 0.12, the only valid positional argument will be `data`, and passing other arguments without an explicit keyword will result in an error or misinterpretation.\n",
            "  FutureWarning\n"
          ]
        },
        {
          "output_type": "execute_result",
          "data": {
            "text/plain": [
              "<matplotlib.axes._subplots.AxesSubplot at 0x7f6435a9bc50>"
            ]
          },
          "metadata": {},
          "execution_count": 68
        },
        {
          "output_type": "display_data",
          "data": {
            "text/plain": [
              "<Figure size 576x396 with 1 Axes>"
            ],
            "image/png": "[encoded data removed]"
          },
          "metadata": {}
        }
      ]
    },
    {
      "cell_type": "markdown",
      "metadata": {
        "id": "kd1es4DSD7GR"
      },
      "source": [
        "## Scalinig the Data."
      ]
    },
    {
      "cell_type": "code",
      "execution_count": 70,
      "metadata": {
        "id": "g97r39XjD7GS"
      },
      "outputs": [],
      "source": [
        "from sklearn.preprocessing import StandardScaler\n",
        "scaler = StandardScaler()\n",
        "scaler.fit(x2)\n",
        "x2 = scaler.transform(x2)"
      ]
    },
    {
      "cell_type": "code",
      "source": [
        "from sklearn.preprocessing import StandardScaler\n",
        "scaler = StandardScaler()\n",
        "scaler.fit(x3)\n",
        "x3 = scaler.transform(x3)"
      ],
      "metadata": {
        "id": "ZsrevuHT11He"
      },
      "execution_count": 71,
      "outputs": []
    },
    {
      "cell_type": "code",
      "execution_count": 72,
      "metadata": {
        "id": "GCtkGhJqD7GS"
      },
      "outputs": [],
      "source": [
        "from sklearn.ensemble import RandomForestClassifier\n",
        "from sklearn import svm\n",
        "from sklearn.metrics import accuracy_score,confusion_matrix,classification_report\n",
        "\n",
        "\n",
        "from yellowbrick.classifier import ConfusionMatrix\n",
        "from yellowbrick.classifier import ClassPredictionError\n",
        "from yellowbrick.classifier import ROCAUC\n",
        "from yellowbrick.style import set_palette"
      ]
    },
    {
      "cell_type": "code",
      "execution_count": 73,
      "metadata": {
        "id": "_LDgpK4cD7GS"
      },
      "outputs": [],
      "source": [
        "from sklearn.model_selection import train_test_split\n",
        "x2_train, x2_test, y2_train, y2_test = train_test_split(x2, y2, test_size = 0.33, random_state = 42)\n",
        "x3_train, x3_test, y3_train, y3_test = train_test_split(x3, y3, test_size = 0.33, random_state = 42)"
      ]
    },
    {
      "cell_type": "code",
      "source": [
        ""
      ],
      "metadata": {
        "id": "Bj2_XaBA2VxW"
      },
      "execution_count": null,
      "outputs": []
    },
    {
      "cell_type": "markdown",
      "metadata": {
        "id": "2pIDe_ey2jPE"
      },
      "source": [
        "## Random Forest model with less features"
      ]
    },
    {
      "cell_type": "code",
      "execution_count": 74,
      "metadata": {
        "outputId": "27419293-adc5-41a9-9317-41ed5c27349f",
        "colab": {
          "base_uri": "https://localhost:8080/"
        },
        "id": "7Srx4hwN2jPE"
      },
      "outputs": [
        {
          "output_type": "stream",
          "name": "stdout",
          "text": [
            "Accuracy : 0.982\n"
          ]
        }
      ],
      "source": [
        "r2_forest = RandomForestClassifier()\n",
        "r2_forest.fit(x2_train,y2_train)\n",
        "predicted2 = r2_forest.predict(x2_test)\n",
        "score2 = r2_forest.score(x2_test, y2_test)\n",
        "rf2_score_ = np.mean(score2)\n",
        "\n",
        "print('Accuracy : %.3f' % (rf2_score_))"
      ]
    },
    {
      "cell_type": "code",
      "execution_count": 76,
      "metadata": {
        "outputId": "a404ef6b-8b48-4702-f034-3f2a961451ee",
        "colab": {
          "base_uri": "https://localhost:8080/",
          "height": 418
        },
        "id": "YQrO0iAB2jPF"
      },
      "outputs": [
        {
          "output_type": "display_data",
          "data": {
            "text/plain": [
              "<Figure size 576x396 with 1 Axes>"
            ],
            "image/png": "[encoded data removed]"
          },
          "metadata": {}
        },
        {
          "output_type": "execute_result",
          "data": {
            "text/plain": [
              "<matplotlib.axes._subplots.AxesSubplot at 0x7f6435852bd0>"
            ]
          },
          "metadata": {},
          "execution_count": 76
        }
      ],
      "source": [
        "classes = ['GALAXY','STAR','QSO']\n",
        "r2_forest_cm = ConfusionMatrix(r2_forest, classes=classes, cmap='GnBu')\n",
        "\n",
        "r2_forest_cm.fit(x2_train, y2_train)\n",
        "r2_forest_cm.score(x2_test, y2_test)\n",
        "r2_forest_cm.show()"
      ]
    },
    {
      "cell_type": "code",
      "execution_count": 79,
      "metadata": {
        "outputId": "f87bd7d6-64dd-4593-a1b3-fb7010e33671",
        "colab": {
          "base_uri": "https://localhost:8080/"
        },
        "id": "PrksUKs_2y2U"
      },
      "outputs": [
        {
          "output_type": "stream",
          "name": "stdout",
          "text": [
            "Accuracy : 0.980\n"
          ]
        }
      ],
      "source": [
        "r3_forest = RandomForestClassifier()\n",
        "r3_forest.fit(x3_train,y3_train)\n",
        "predicted3 = r3_forest.predict(x3_test)\n",
        "score3 = r3_forest.score(x3_test, y3_test)\n",
        "rf3_score_ = np.mean(score3)\n",
        "\n",
        "print('Accuracy : %.3f' % (rf3_score_))"
      ]
    },
    {
      "cell_type": "code",
      "execution_count": 80,
      "metadata": {
        "outputId": "397fcc1b-b867-446e-8af9-01b25ba1a8b9",
        "colab": {
          "base_uri": "https://localhost:8080/",
          "height": 418
        },
        "id": "lHnSDB012y2V"
      },
      "outputs": [
        {
          "output_type": "display_data",
          "data": {
            "text/plain": [
              "<Figure size 576x396 with 1 Axes>"
            ],
            "image/png": "[encoded data removed]"
          },
          "metadata": {}
        },
        {
          "output_type": "execute_result",
          "data": {
            "text/plain": [
              "<matplotlib.axes._subplots.AxesSubplot at 0x7f643580e990>"
            ]
          },
          "metadata": {},
          "execution_count": 80
        }
      ],
      "source": [
        "classes = ['GALAXY','STAR','QSO']\n",
        "r3_forest_cm = ConfusionMatrix(r3_forest, classes=classes, cmap='GnBu')\n",
        "\n",
        "r3_forest_cm.fit(x3_train, y3_train)\n",
        "r3_forest_cm.score(x3_test, y3_test)\n",
        "r3_forest_cm.show()"
      ]
    },
    {
      "cell_type": "markdown",
      "source": [
        "## Deep learning model with less features"
      ],
      "metadata": {
        "id": "HtZQnoCk_Rwt"
      }
    },
    {
      "cell_type": "code",
      "source": [
        ""
      ],
      "metadata": {
        "id": "SialHveK5stc"
      },
      "execution_count": null,
      "outputs": []
    },
    {
      "cell_type": "code",
      "execution_count": 86,
      "metadata": {
        "id": "nxTHfoSL5tL1"
      },
      "outputs": [],
      "source": [
        "ann2 = models.Sequential([\n",
        "    layers.Dense(30, activation='relu', input_shape=(8,)),\n",
        "    layers.Dense(20, activation='relu'),\n",
        "    layers.Dense(3, activation='softmax')\n",
        "])"
      ]
    },
    {
      "cell_type": "code",
      "execution_count": 87,
      "metadata": {
        "id": "vfXidONy5tL2"
      },
      "outputs": [],
      "source": [
        "ann2.compile(\n",
        "  loss='sparse_categorical_crossentropy',\n",
        "  optimizer='adam',\n",
        "  metrics=['accuracy']\n",
        ")"
      ]
    },
    {
      "cell_type": "code",
      "execution_count": 88,
      "metadata": {
        "outputId": "7dece217-5e80-495a-dbae-8c67d109e0ac",
        "colab": {
          "base_uri": "https://localhost:8080/"
        },
        "id": "U2RLjaAA5tL2"
      },
      "outputs": [
        {
          "output_type": "stream",
          "name": "stdout",
          "text": [
            "Epoch 1/10\n",
            "3681/3681 [==============================] - 10s 3ms/step - loss: 0.2749 - accuracy: 0.9333 - val_loss: 0.1191 - val_accuracy: 0.9628\n",
            "Epoch 2/10\n",
            "3681/3681 [==============================] - 9s 3ms/step - loss: 0.1526 - accuracy: 0.9638 - val_loss: 0.1113 - val_accuracy: 0.9624\n",
            "Epoch 3/10\n",
            "3681/3681 [==============================] - 9s 2ms/step - loss: 0.1144 - accuracy: 0.9665 - val_loss: 0.0974 - val_accuracy: 0.9691\n",
            "Epoch 4/10\n",
            "3681/3681 [==============================] - 9s 2ms/step - loss: 0.0985 - accuracy: 0.9686 - val_loss: 0.0944 - val_accuracy: 0.9697\n",
            "Epoch 5/10\n",
            "3681/3681 [==============================] - 9s 2ms/step - loss: 0.0958 - accuracy: 0.9695 - val_loss: 0.0916 - val_accuracy: 0.9716\n",
            "Epoch 6/10\n",
            "3681/3681 [==============================] - 9s 2ms/step - loss: 0.0937 - accuracy: 0.9706 - val_loss: 0.0892 - val_accuracy: 0.9715\n",
            "Epoch 7/10\n",
            "3681/3681 [==============================] - 9s 2ms/step - loss: 0.0920 - accuracy: 0.9706 - val_loss: 0.0925 - val_accuracy: 0.9706\n",
            "Epoch 8/10\n",
            "3681/3681 [==============================] - 9s 2ms/step - loss: 0.0901 - accuracy: 0.9719 - val_loss: 0.0898 - val_accuracy: 0.9725\n",
            "Epoch 9/10\n",
            "3681/3681 [==============================] - 9s 2ms/step - loss: 0.0893 - accuracy: 0.9717 - val_loss: 0.0867 - val_accuracy: 0.9723\n",
            "Epoch 10/10\n",
            "3681/3681 [==============================] - 9s 2ms/step - loss: 0.0887 - accuracy: 0.9723 - val_loss: 0.0873 - val_accuracy: 0.9729\n"
          ]
        },
        {
          "output_type": "execute_result",
          "data": {
            "text/plain": [
              "<keras.callbacks.History at 0x7f64343289d0>"
            ]
          },
          "metadata": {},
          "execution_count": 88
        }
      ],
      "source": [
        "val_data2=(x2_test,y2_test)\n",
        "ann2.fit(x2_train, y2_train, epochs=10, validation_data=val_data2, shuffle=True)"
      ]
    },
    {
      "cell_type": "code",
      "source": [
        "ann2_loss,ann2_score_ = ann2.evaluate(x2_test,y2_test)"
      ],
      "metadata": {
        "colab": {
          "base_uri": "https://localhost:8080/"
        },
        "id": "YdEIsfSq6lOg",
        "outputId": "5ba2b290-50e6-4eee-f3db-1b83e19475c0"
      },
      "execution_count": 157,
      "outputs": [
        {
          "output_type": "stream",
          "name": "stdout",
          "text": [
            "1813/1813 [==============================] - 5s 3ms/step - loss: 0.0873 - accuracy: 0.9729\n"
          ]
        }
      ]
    },
    {
      "cell_type": "code",
      "source": [
        "ann2_score_"
      ],
      "metadata": {
        "colab": {
          "base_uri": "https://localhost:8080/"
        },
        "id": "cUCs2d3kMcGe",
        "outputId": "17aad2f0-d64f-45d0-9c48-b8cdb6df2210"
      },
      "execution_count": 158,
      "outputs": [
        {
          "output_type": "execute_result",
          "data": {
            "text/plain": [
              "0.9729184508323669"
            ]
          },
          "metadata": {},
          "execution_count": 158
        }
      ]
    },
    {
      "cell_type": "code",
      "execution_count": 93,
      "metadata": {
        "id": "RxyXwgTu6ll-"
      },
      "outputs": [],
      "source": [
        "ann3 = models.Sequential([\n",
        "    layers.Dense(30, activation='relu', input_shape=(5,)),\n",
        "    layers.Dense(20, activation='relu'),\n",
        "    layers.Dense(3, activation='softmax')\n",
        "])"
      ]
    },
    {
      "cell_type": "code",
      "execution_count": 108,
      "metadata": {
        "id": "URba-3ut6ll_"
      },
      "outputs": [],
      "source": [
        "ann3.compile(\n",
        "  loss='sparse_categorical_crossentropy',\n",
        "  optimizer='adam',\n",
        "  metrics=['accuracy']\n",
        ")"
      ]
    },
    {
      "cell_type": "code",
      "execution_count": 95,
      "metadata": {
        "outputId": "71c31845-b62c-4d82-bfd8-2b7ba18425da",
        "colab": {
          "base_uri": "https://localhost:8080/"
        },
        "id": "1k3cbVh76ll_"
      },
      "outputs": [
        {
          "output_type": "stream",
          "name": "stdout",
          "text": [
            "Epoch 1/10\n",
            "3681/3681 [==============================] - 11s 3ms/step - loss: 0.3054 - accuracy: 0.9346 - val_loss: 0.1201 - val_accuracy: 0.9641\n",
            "Epoch 2/10\n",
            "3681/3681 [==============================] - 9s 2ms/step - loss: 0.1911 - accuracy: 0.9651 - val_loss: 0.1169 - val_accuracy: 0.9648\n",
            "Epoch 3/10\n",
            "3681/3681 [==============================] - 9s 2ms/step - loss: 0.1496 - accuracy: 0.9676 - val_loss: 0.1057 - val_accuracy: 0.9665\n",
            "Epoch 4/10\n",
            "3681/3681 [==============================] - 10s 3ms/step - loss: 0.1118 - accuracy: 0.9684 - val_loss: 0.1026 - val_accuracy: 0.9694\n",
            "Epoch 5/10\n",
            "3681/3681 [==============================] - 9s 2ms/step - loss: 0.1001 - accuracy: 0.9694 - val_loss: 0.1038 - val_accuracy: 0.9659\n",
            "Epoch 6/10\n",
            "3681/3681 [==============================] - 9s 2ms/step - loss: 0.0979 - accuracy: 0.9702 - val_loss: 0.0974 - val_accuracy: 0.9701\n",
            "Epoch 7/10\n",
            "3681/3681 [==============================] - 9s 2ms/step - loss: 0.0961 - accuracy: 0.9706 - val_loss: 0.0965 - val_accuracy: 0.9710\n",
            "Epoch 8/10\n",
            "3681/3681 [==============================] - 10s 3ms/step - loss: 0.0950 - accuracy: 0.9713 - val_loss: 0.1004 - val_accuracy: 0.9706\n",
            "Epoch 9/10\n",
            "3681/3681 [==============================] - 9s 2ms/step - loss: 0.0932 - accuracy: 0.9714 - val_loss: 0.1062 - val_accuracy: 0.9707\n",
            "Epoch 10/10\n",
            "3681/3681 [==============================] - 9s 2ms/step - loss: 0.0926 - accuracy: 0.9716 - val_loss: 0.0932 - val_accuracy: 0.9708\n"
          ]
        },
        {
          "output_type": "execute_result",
          "data": {
            "text/plain": [
              "<keras.callbacks.History at 0x7f642b4e8250>"
            ]
          },
          "metadata": {},
          "execution_count": 95
        }
      ],
      "source": [
        "val_data3=(x3_test,y3_test)\n",
        "ann3.fit(x3_train, y3_train, epochs=10, validation_data=val_data3, shuffle=True)"
      ]
    },
    {
      "cell_type": "code",
      "source": [
        "ann3_loss,ann3_score_ = ann3.evaluate(x3_test,y3_test)"
      ],
      "metadata": {
        "colab": {
          "base_uri": "https://localhost:8080/"
        },
        "id": "-HKKsWxuMXqG",
        "outputId": "1aae4cd6-7e5d-4024-9da5-4142a6fde1d1"
      },
      "execution_count": 159,
      "outputs": [
        {
          "output_type": "stream",
          "name": "stdout",
          "text": [
            "1813/1813 [==============================] - 5s 3ms/step - loss: 0.0932 - accuracy: 0.9708\n"
          ]
        }
      ]
    },
    {
      "cell_type": "code",
      "source": [
        "ann3_score_"
      ],
      "metadata": {
        "colab": {
          "base_uri": "https://localhost:8080/"
        },
        "id": "djYMUYeUMf5x",
        "outputId": "43b9e62e-f1b6-40f4-9bc8-ac1954d09bea"
      },
      "execution_count": 160,
      "outputs": [
        {
          "output_type": "execute_result",
          "data": {
            "text/plain": [
              "0.9707809090614319"
            ]
          },
          "metadata": {},
          "execution_count": 160
        }
      ]
    },
    {
      "cell_type": "markdown",
      "source": [
        "## Random Forest model comparison"
      ],
      "metadata": {
        "id": "Bq1YxhhQNZAh"
      }
    },
    {
      "cell_type": "code",
      "source": [
        "data_dict = {'11 features':rf_score_*100, '9 features':rf2_score_*100, '6 features':rf3_score_*100 }\n",
        "models = list(data_dict.keys())\n",
        "values = list(data_dict.values())\n",
        "\n",
        "fig = plt.figure(figsize = (20, 10))\n",
        "#  Bar plot\n",
        "plt.bar(models, values, color ='lightblue',width = 0.5)\n",
        "addlabels(models,values)\n",
        "plt.xlabel(\"Models\")\n",
        "plt.ylabel(\"Percentage\")\n",
        "plt.title(\"Accuracy Comparison\")\n",
        "plt.show()"
      ],
      "metadata": {
        "colab": {
          "base_uri": "https://localhost:8080/",
          "height": 620
        },
        "id": "gG0zSds6_bfb",
        "outputId": "7d545e01-5a85-4b39-f250-1adc270cdc7b"
      },
      "execution_count": 156,
      "outputs": [
        {
          "output_type": "display_data",
          "data": {
            "text/plain": [
              "<Figure size 1440x720 with 1 Axes>"
            ],
            "image/png": "[encoded data removed]"
          },
          "metadata": {}
        }
      ]
    },
    {
      "cell_type": "markdown",
      "source": [
        "## Deep learning models comparison"
      ],
      "metadata": {
        "id": "eIb4GVY5NdQ8"
      }
    },
    {
      "cell_type": "code",
      "source": [
        "data_dict = {'11 features':ann_score_*100, '9 features':ann2_score_*100, '6 features':ann3_score_*100 }\n",
        "models = list(data_dict.keys())\n",
        "values = list(data_dict.values())\n",
        "\n",
        "fig = plt.figure(figsize = (20, 10))\n",
        "#  Bar plot\n",
        "plt.bar(models, values, color ='lightblue',width = 0.5)\n",
        "addlabels(models,values)\n",
        "plt.xlabel(\"Models\")\n",
        "plt.ylabel(\"Percentage\")\n",
        "plt.title(\"Accuracy Comparison\")\n",
        "plt.show()"
      ],
      "metadata": {
        "colab": {
          "base_uri": "https://localhost:8080/",
          "height": 620
        },
        "id": "fNGsyreOMK9G",
        "outputId": "3aae1b60-d268-4332-8587-bb65086cd1d7"
      },
      "execution_count": 161,
      "outputs": [
        {
          "output_type": "display_data",
          "data": {
            "text/plain": [
              "<Figure size 1440x720 with 1 Axes>"
            ],
            "image/png": "[encoded data removed]"
          },
          "metadata": {}
        }
      ]
    }
  ],
  "metadata": {
    "kernelspec": {
      "display_name": "Python 3",
      "language": "python",
      "name": "python3"
    },
    "language_info": {
      "codemirror_mode": {
        "name": "ipython",
        "version": 3
      },
      "file_extension": ".py",
      "mimetype": "text/x-python",
      "name": "python",
      "nbconvert_exporter": "python",
      "pygments_lexer": "ipython3",
      "version": "3.7.3"
    },
    "colab": {
      "name": "Stellar_Classification_Review 3.ipynb",
      "provenance": [],
      "collapsed_sections": []
    }
  },
  "nbformat": 4,
  "nbformat_minor": 0
}